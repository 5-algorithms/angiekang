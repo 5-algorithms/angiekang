{
  "nbformat": 4,
  "nbformat_minor": 0,
  "metadata": {
    "colab": {
      "name": "18870번_좌표 압축.ipynb",
      "provenance": [],
      "collapsed_sections": []
    },
    "kernelspec": {
      "name": "python3",
      "display_name": "Python 3"
    },
    "language_info": {
      "name": "python"
    }
  },
  "cells": [
    {
      "cell_type": "markdown",
      "source": [
        "수직선 위에 N개의 좌표 X1, X2, ..., XN이 있다. 이 좌표에 좌표 압축을 적용하려고 한다.\n",
        "\n",
        "Xi를 좌표 압축한 결과 X'i의 값은 Xi > Xj를 만족하는 서로 다른 좌표의 개수와 같아야 한다.\n",
        "\n",
        "X1, X2, ..., XN에 좌표 압축을 적용한 결과 X'1, X'2, ..., X'N를 출력해보자."
      ],
      "metadata": {
        "id": "LNzGsASBMRLc"
      }
    },
    {
      "cell_type": "code",
      "execution_count": 1,
      "metadata": {
        "colab": {
          "base_uri": "https://localhost:8080/"
        },
        "id": "6Il8fTwWMNaL",
        "outputId": "a9f9143f-fb4a-4d7e-8c4d-16119adce125"
      },
      "outputs": [
        {
          "name": "stdout",
          "output_type": "stream",
          "text": [
            "5\n",
            "2 4 -10 4 -9\n"
          ]
        }
      ],
      "source": [
        "n = int(input())\n",
        "dots = list(map(int, input().split()))"
      ]
    },
    {
      "cell_type": "code",
      "source": [
        "dots"
      ],
      "metadata": {
        "colab": {
          "base_uri": "https://localhost:8080/"
        },
        "id": "XRT-sd_1Mwaz",
        "outputId": "284f182e-3a00-4500-fbf3-3b974b20cdc4"
      },
      "execution_count": 2,
      "outputs": [
        {
          "output_type": "execute_result",
          "data": {
            "text/plain": [
              "[2, 4, -10, 4, -9]"
            ]
          },
          "metadata": {},
          "execution_count": 2
        }
      ]
    },
    {
      "cell_type": "code",
      "source": [
        "for i in dots:\n",
        "    rank = 0\n",
        "    for j in dots:\n",
        "        if i > j:\n",
        "          rank += 1\n",
        "    print(rank, end = \" \")"
      ],
      "metadata": {
        "colab": {
          "base_uri": "https://localhost:8080/"
        },
        "id": "HjFAzABbNF5G",
        "outputId": "f828073a-693f-473e-c397-80b56077c08c"
      },
      "execution_count": 4,
      "outputs": [
        {
          "output_type": "stream",
          "name": "stdout",
          "text": [
            "2 3 0 3 1 "
          ]
        }
      ]
    },
    {
      "cell_type": "markdown",
      "source": [
        " \n",
        " ⬆ 시간초과,,,ㅠ"
      ],
      "metadata": {
        "id": "--dGbDaeNl4N"
      }
    },
    {
      "cell_type": "markdown",
      "source": [
        "-----"
      ],
      "metadata": {
        "id": "O6WcMAtMONxJ"
      }
    },
    {
      "cell_type": "code",
      "source": [
        "sorted_dots = sorted(list(set(dots)))\n",
        "sorted_dots"
      ],
      "metadata": {
        "colab": {
          "base_uri": "https://localhost:8080/"
        },
        "id": "Pva5GSUGNNFj",
        "outputId": "81732b25-5606-49ac-84f9-7be06a6fcd77"
      },
      "execution_count": 5,
      "outputs": [
        {
          "output_type": "execute_result",
          "data": {
            "text/plain": [
              "[-10, -9, 2, 4]"
            ]
          },
          "metadata": {},
          "execution_count": 5
        }
      ]
    },
    {
      "cell_type": "code",
      "source": [
        "dic = {sorted_dots[i]:i for i in range (len(sorted_dots))}\n",
        "dic"
      ],
      "metadata": {
        "colab": {
          "base_uri": "https://localhost:8080/"
        },
        "id": "WZeEr0GGOWTV",
        "outputId": "45f485a9-31b1-45e8-f729-43950b3dfc92"
      },
      "execution_count": 8,
      "outputs": [
        {
          "output_type": "execute_result",
          "data": {
            "text/plain": [
              "{-10: 0, -9: 1, 2: 2, 4: 3}"
            ]
          },
          "metadata": {},
          "execution_count": 8
        }
      ]
    },
    {
      "cell_type": "code",
      "source": [
        "for i in dots:\n",
        "  print(dic[i],end=' ')"
      ],
      "metadata": {
        "colab": {
          "base_uri": "https://localhost:8080/"
        },
        "id": "xiS_x3EgNy9r",
        "outputId": "9d46ca08-24b5-4bab-e6fb-ac777562ea0f"
      },
      "execution_count": 9,
      "outputs": [
        {
          "output_type": "stream",
          "name": "stdout",
          "text": [
            "2 3 0 3 1 "
          ]
        }
      ]
    }
  ]
}