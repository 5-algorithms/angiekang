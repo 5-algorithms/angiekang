{
  "nbformat": 4,
  "nbformat_minor": 0,
  "metadata": {
    "colab": {
      "name": "Untitled10.ipynb",
      "provenance": []
    },
    "kernelspec": {
      "name": "python3",
      "display_name": "Python 3"
    },
    "language_info": {
      "name": "python"
    }
  },
  "cells": [
    {
      "cell_type": "code",
      "execution_count": 3,
      "metadata": {
        "colab": {
          "base_uri": "https://localhost:8080/"
        },
        "id": "rbVUMJctej1J",
        "outputId": "08bb9f31-ba45-4d89-d163-c8d18c7f27a0"
      },
      "outputs": [
        {
          "output_type": "stream",
          "name": "stdout",
          "text": [
            "4 6\n",
            "101111\n",
            "101010\n",
            "101011\n",
            "111011\n",
            "15\n"
          ]
        }
      ],
      "source": [
        "from collections import deque \n",
        "\n",
        "n, m = map(int,input().split()) \n",
        "\n",
        "graph = []\n",
        "for i in range(n): \n",
        "    graph.append(list(map(int,input())))\n",
        "\n",
        "dx = [-1,1,0,0] \n",
        "dy = [0,0,-1,1]\n",
        "\n",
        "def bfs(x,y): \n",
        "    queue = deque()\n",
        "    queue.append((x,y))\n",
        "\n",
        "    while queue:\n",
        "        x, y = queue.popleft()\n",
        "\n",
        "        for i in range(4):\n",
        "\n",
        "            nx = x+ dx[i] \n",
        "            ny = y+ dy[i]\n",
        "\n",
        "            if nx < 0 or ny < 0 or nx >=n or ny >= m: \n",
        "                continue \n",
        "            if graph[nx][ny] == 0: \n",
        "                continue \n",
        "\n",
        "            if graph[nx][ny] == 1:\n",
        "                graph[nx][ny] = graph[x][y] + 1 \n",
        "                queue.append((nx,ny)) \n",
        "\n",
        "    return graph[n-1][m-1]\n",
        "\n",
        "print(bfs(0,0))"
      ]
    },
    {
      "cell_type": "code",
      "source": [
        "1"
      ],
      "metadata": {
        "id": "2Ur-egr5euHI"
      },
      "execution_count": null,
      "outputs": []
    }
  ]
}