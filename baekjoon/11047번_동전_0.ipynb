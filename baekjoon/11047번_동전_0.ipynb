{
  "nbformat": 4,
  "nbformat_minor": 0,
  "metadata": {
    "colab": {
      "name": "11047번_동전 0.ipynb",
      "provenance": []
    },
    "kernelspec": {
      "name": "python3",
      "display_name": "Python 3"
    },
    "language_info": {
      "name": "python"
    }
  },
  "cells": [
    {
      "cell_type": "markdown",
      "source": [
        "준규가 가지고 있는 동전은 총 N종류이고, 각각의 동전을 매우 많이 가지고 있다.\n",
        "\n",
        "동전을 적절히 사용해서 그 가치의 합을 K로 만들려고 한다. 이때 필요한 동전 개수의 최솟값을 구하는 프로그램을 작성하시오."
      ],
      "metadata": {
        "id": "hYBPmFqgVNxl"
      }
    },
    {
      "cell_type": "code",
      "execution_count": 5,
      "metadata": {
        "colab": {
          "base_uri": "https://localhost:8080/"
        },
        "id": "jpKNrjBfVIM1",
        "outputId": "bcab6ef8-cc7c-4133-98be-86f419580a0a"
      },
      "outputs": [
        {
          "name": "stdout",
          "output_type": "stream",
          "text": [
            "10 4200\n",
            "1\n",
            "5\n",
            "10\n",
            "50\n",
            "100\n",
            "500\n",
            "1000\n",
            "5000\n",
            "10000\n",
            "50000\n"
          ]
        }
      ],
      "source": [
        "n, k = map(int, input().split())\n",
        "coins = []\n",
        "for _ in range(n):\n",
        "  coins.append(int(input()))"
      ]
    },
    {
      "cell_type": "code",
      "source": [
        "coins"
      ],
      "metadata": {
        "colab": {
          "base_uri": "https://localhost:8080/"
        },
        "id": "xmXHQ9exVp93",
        "outputId": "5175b66f-61b0-4c15-a47c-0e3bc749be4f"
      },
      "execution_count": 6,
      "outputs": [
        {
          "output_type": "execute_result",
          "data": {
            "text/plain": [
              "[1, 5, 10, 50, 100, 500, 1000, 5000, 10000, 50000]"
            ]
          },
          "metadata": {},
          "execution_count": 6
        }
      ]
    },
    {
      "cell_type": "code",
      "source": [
        "coins.sort(reverse=True)"
      ],
      "metadata": {
        "id": "y1hMQLjXVrWi"
      },
      "execution_count": 11,
      "outputs": []
    },
    {
      "cell_type": "code",
      "source": [
        "coins"
      ],
      "metadata": {
        "colab": {
          "base_uri": "https://localhost:8080/"
        },
        "id": "SEYVuDN6V9Fi",
        "outputId": "fb7d1965-bd2c-4967-97d9-c0a9f7a8e077"
      },
      "execution_count": 12,
      "outputs": [
        {
          "output_type": "execute_result",
          "data": {
            "text/plain": [
              "[50000, 10000, 5000, 1000, 500, 100, 50, 10, 5, 1]"
            ]
          },
          "metadata": {},
          "execution_count": 12
        }
      ]
    },
    {
      "cell_type": "code",
      "source": [
        "cnt = 0\n",
        "\n",
        "for c in coins:\n",
        "  if k >= c:\n",
        "    cnt += k//c\n",
        "    k %= c\n",
        "\n",
        "print(cnt)"
      ],
      "metadata": {
        "colab": {
          "base_uri": "https://localhost:8080/"
        },
        "id": "Y5JXuu3MV-AB",
        "outputId": "a0430938-0922-45f0-e46b-c453d2225bfb"
      },
      "execution_count": 21,
      "outputs": [
        {
          "output_type": "stream",
          "name": "stdout",
          "text": [
            "0\n"
          ]
        }
      ]
    },
    {
      "cell_type": "code",
      "source": [
        ""
      ],
      "metadata": {
        "id": "bRe7K5YeWawr"
      },
      "execution_count": null,
      "outputs": []
    }
  ]
}