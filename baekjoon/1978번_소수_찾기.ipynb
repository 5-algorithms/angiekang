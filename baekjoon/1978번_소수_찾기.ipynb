{
  "nbformat": 4,
  "nbformat_minor": 0,
  "metadata": {
    "colab": {
      "name": "1978번_소수 찾기.ipynb",
      "provenance": [],
      "collapsed_sections": []
    },
    "kernelspec": {
      "name": "python3",
      "display_name": "Python 3"
    },
    "language_info": {
      "name": "python"
    }
  },
  "cells": [
    {
      "cell_type": "markdown",
      "source": [
        "# 문제\n",
        "주어진 수 N개 중에서 소수가 몇 개인지 찾아서 출력하는 프로그램을 작성하시오.\n",
        "## 입력\n",
        "첫 줄에 수의 개수 N이 주어진다. N은 100이하이다. 다음으로 N개의 수가 주어지는데 수는 1,000 이하의 자연수이다.\n",
        "## 출력\n",
        "주어진 수들 중 소수의 개수를 출력한다."
      ],
      "metadata": {
        "id": "C3QkJ0ttR7ZC"
      }
    },
    {
      "cell_type": "markdown",
      "source": [
        "## 예제 입력\n",
        "```\n",
        "4\n",
        "1 3 5 7\n",
        "```\n",
        "\n",
        "## 예제 출력\n",
        "3"
      ],
      "metadata": {
        "id": "XP61GGQ5SCv3"
      }
    },
    {
      "cell_type": "code",
      "execution_count": 1,
      "metadata": {
        "colab": {
          "base_uri": "https://localhost:8080/"
        },
        "id": "qGowLHBiRoU-",
        "outputId": "889fb89f-9aa6-40fd-9b34-65a72d35a1ae"
      },
      "outputs": [
        {
          "name": "stdout",
          "output_type": "stream",
          "text": [
            "4\n",
            "1 3 5 7\n"
          ]
        }
      ],
      "source": [
        "n = int(input())\n",
        "numlist = list(map(int, input().split()))"
      ]
    },
    {
      "cell_type": "code",
      "source": [
        "numlist"
      ],
      "metadata": {
        "colab": {
          "base_uri": "https://localhost:8080/"
        },
        "id": "LOqCPUAXScSr",
        "outputId": "d35c9f85-0712-4454-d22f-2059230209d0"
      },
      "execution_count": 2,
      "outputs": [
        {
          "output_type": "execute_result",
          "data": {
            "text/plain": [
              "[1, 3, 5, 7]"
            ]
          },
          "metadata": {},
          "execution_count": 2
        }
      ]
    },
    {
      "cell_type": "code",
      "source": [
        "result = 0\n",
        "\n",
        "def is_prime(x):\n",
        "  if x < 2:\n",
        "    return False\n",
        "  for i in range(2, x):\n",
        "    if x%i == 0:\n",
        "      return False\n",
        "  return True\n",
        "\n",
        "for num in numlist:\n",
        "  if is_prime(num):\n",
        "    result += 1\n",
        "\n",
        "print(result)"
      ],
      "metadata": {
        "colab": {
          "base_uri": "https://localhost:8080/"
        },
        "id": "F7-xhK6tSgny",
        "outputId": "6be3ac8e-26a4-4020-f4f8-bdf2565fd43f"
      },
      "execution_count": 8,
      "outputs": [
        {
          "output_type": "stream",
          "name": "stdout",
          "text": [
            "3\n"
          ]
        }
      ]
    },
    {
      "cell_type": "code",
      "source": [
        ""
      ],
      "metadata": {
        "id": "1Pgg5iLATYlJ"
      },
      "execution_count": null,
      "outputs": []
    }
  ]
}