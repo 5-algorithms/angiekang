{
  "nbformat": 4,
  "nbformat_minor": 0,
  "metadata": {
    "colab": {
      "name": "15649번_N과 M (1).ipynb",
      "provenance": []
    },
    "kernelspec": {
      "name": "python3",
      "display_name": "Python 3"
    },
    "language_info": {
      "name": "python"
    }
  },
  "cells": [
    {
      "cell_type": "markdown",
      "source": [
        "자연수 N과 M이 주어졌을 때, 아래 조건을 만족하는 길이가 M인 수열을 모두 구하는 프로그램을 작성하시오.\n",
        "\n",
        "- 1부터 N까지 자연수 중에서 중복 없이 M개를 고른 수열"
      ],
      "metadata": {
        "id": "AoXpl0n3O2Hx"
      }
    },
    {
      "cell_type": "code",
      "execution_count": 1,
      "metadata": {
        "colab": {
          "base_uri": "https://localhost:8080/"
        },
        "id": "n3iONRVNOm3M",
        "outputId": "4469f7f6-3884-41e0-e7cf-5e9223adbc73"
      },
      "outputs": [
        {
          "name": "stdout",
          "output_type": "stream",
          "text": [
            "4 2\n"
          ]
        }
      ],
      "source": [
        "n, m = map(int, input().split())"
      ]
    },
    {
      "cell_type": "code",
      "source": [
        "from itertools import permutations\n",
        "\n",
        "numbers = []\n",
        "for i in range(n):\n",
        "  numbers.append(i+1)"
      ],
      "metadata": {
        "id": "bt_iYVVgPN-K"
      },
      "execution_count": 6,
      "outputs": []
    },
    {
      "cell_type": "code",
      "source": [
        "numbers"
      ],
      "metadata": {
        "colab": {
          "base_uri": "https://localhost:8080/"
        },
        "id": "dGYZhkWZPh3L",
        "outputId": "2cf05d45-0d1a-4067-e2e5-8a108c3671cf"
      },
      "execution_count": 7,
      "outputs": [
        {
          "output_type": "execute_result",
          "data": {
            "text/plain": [
              "[1, 2, 3, 4]"
            ]
          },
          "metadata": {},
          "execution_count": 7
        }
      ]
    },
    {
      "cell_type": "code",
      "source": [
        "answer = list(permutations(numbers, m))"
      ],
      "metadata": {
        "id": "8XU3AdBrPijJ"
      },
      "execution_count": 8,
      "outputs": []
    },
    {
      "cell_type": "code",
      "source": [
        "answer"
      ],
      "metadata": {
        "colab": {
          "base_uri": "https://localhost:8080/"
        },
        "id": "Rn5UIb6ePxA7",
        "outputId": "8921bfef-9ed9-4c51-90f1-2c5b3c6917d5"
      },
      "execution_count": 9,
      "outputs": [
        {
          "output_type": "execute_result",
          "data": {
            "text/plain": [
              "[(1, 2),\n",
              " (1, 3),\n",
              " (1, 4),\n",
              " (2, 1),\n",
              " (2, 3),\n",
              " (2, 4),\n",
              " (3, 1),\n",
              " (3, 2),\n",
              " (3, 4),\n",
              " (4, 1),\n",
              " (4, 2),\n",
              " (4, 3)]"
            ]
          },
          "metadata": {},
          "execution_count": 9
        }
      ]
    },
    {
      "cell_type": "code",
      "source": [
        "for ans in answer:\n",
        "  for a in ans:\n",
        "    print(a, end = \" \")"
      ],
      "metadata": {
        "colab": {
          "base_uri": "https://localhost:8080/"
        },
        "id": "3lcB4iGRPxca",
        "outputId": "ed48804a-48ea-4d50-c2d1-558bd011130d"
      },
      "execution_count": 18,
      "outputs": [
        {
          "output_type": "stream",
          "name": "stdout",
          "text": [
            "1 2 1 3 1 4 2 1 2 3 2 4 3 1 3 2 3 4 4 1 4 2 4 3 "
          ]
        }
      ]
    },
    {
      "cell_type": "markdown",
      "source": [
        "일케하는거 아니래요  찾아보니까ㅠ\n",
        "백트래킹이라는걸 쓰래요"
      ],
      "metadata": {
        "id": "b-lnLYY4TgQD"
      }
    },
    {
      "cell_type": "code",
      "source": [
        "# 재귀함수를 이용해 m개의 수열을 저장하기 위한 리스트\n",
        "s = []\n",
        " \n",
        "def dfs():\n",
        "    # 리스트에 들어간 수열들이 m개가 되면 리스트에 들어있는 숫자들을 모두 출력하고 함수를 나온다\n",
        "    if len(s)==m:\n",
        "        print(' '.join(map(str,s)))\n",
        "        return\n",
        "    \n",
        "    # for문을 이용해 1부터 n까지의 숫자들을 모두 확인\n",
        "    for i in range(1,n+1):\n",
        "        # 리스트 s의 중복여부 확인\n",
        "        if i not in s:\n",
        "            # 중복이 아니면 숫자 i를 리스트 s에 넣기\n",
        "            s.append(i)\n",
        "            # 현재 s=[1]인 상태에서 다음숫자를 넣기 위하여 가지치기하기(재귀함수)\n",
        "            # 만약 n=4, m=2라면 다음과 같은 형태로 진행\n",
        "            # s: [1] -(출력)-> [1, 2] -(pop(2))-> [1] -(출력)-> [1, 3] -(pop(3))-> [1] -(출력)-> [1, 4]\n",
        "            dfs()\n",
        "            s.pop()\n",
        " \n",
        "dfs()"
      ],
      "metadata": {
        "colab": {
          "base_uri": "https://localhost:8080/"
        },
        "id": "NdUK-0qgP0x6",
        "outputId": "61a88889-43e2-4625-e890-52dfd9bca81d"
      },
      "execution_count": 22,
      "outputs": [
        {
          "output_type": "stream",
          "name": "stdout",
          "text": [
            "1 2\n",
            "1 3\n",
            "1 4\n",
            "2 1\n",
            "2 3\n",
            "2 4\n",
            "3 1\n",
            "3 2\n",
            "3 4\n",
            "4 1\n",
            "4 2\n",
            "4 3\n"
          ]
        }
      ]
    },
    {
      "cell_type": "code",
      "source": [
        ""
      ],
      "metadata": {
        "id": "-H1wVtgRTvmj"
      },
      "execution_count": null,
      "outputs": []
    }
  ]
}