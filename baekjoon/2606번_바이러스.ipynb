{
  "nbformat": 4,
  "nbformat_minor": 0,
  "metadata": {
    "colab": {
      "name": "2606번_바이러스.ipynb",
      "provenance": [],
      "collapsed_sections": []
    },
    "kernelspec": {
      "name": "python3",
      "display_name": "Python 3"
    },
    "language_info": {
      "name": "python"
    }
  },
  "cells": [
    {
      "cell_type": "markdown",
      "source": [
        "## 문제\n",
        "신종 바이러스인 웜 바이러스는 네트워크를 통해 전파된다. 한 컴퓨터가 웜 바이러스에 걸리면 그 컴퓨터와 네트워크 상에서 연결되어 있는 모든 컴퓨터는 웜 바이러스에 걸리게 된다.\n",
        "\n",
        "예를 들어 7대의 컴퓨터가 <그림 1>과 같이 네트워크 상에서 연결되어 있다고 하자. 1번 컴퓨터가 웜 바이러스에 걸리면 웜 바이러스는 2번과 5번 컴퓨터를 거쳐 3번과 6번 컴퓨터까지 전파되어 2, 3, 5, 6 네 대의 컴퓨터는 웜 바이러스에 걸리게 된다. 하지만 4번과 7번 컴퓨터는 1번 컴퓨터와 네트워크상에서 연결되어 있지 않기 때문에 영향을 받지 않는다.\n",
        "![image.png](data:image/png;base64,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)  \n",
        "어느 날 1번 컴퓨터가 웜 바이러스에 걸렸다. 컴퓨터의 수와 네트워크 상에서 서로 연결되어 있는 정보가 주어질 때, 1번 컴퓨터를 통해 웜 바이러스에 걸리게 되는 컴퓨터의 수를 출력하는 프로그램을 작성하시오.\n",
        "\n",
        "## 입력 \n",
        "첫째 줄에는 컴퓨터의 수가 주어진다. 컴퓨터의 수는 100 이하이고 각 컴퓨터에는 1번 부터 차례대로 번호가 매겨진다. 둘째 줄에는 네트워크 상에서 직접 연결되어 있는 컴퓨터 쌍의 수가 주어진다. 이어서 그 수만큼 한 줄에 한 쌍씩 네트워크 상에서 직접 연결되어 있는 컴퓨터의 번호 쌍이 주어진다.\n",
        "\n",
        "## 출력\n",
        "1번 컴퓨터가 웜 바이러스에 걸렸을 때, 1번 컴퓨터를 통해 웜 바이러스에 걸리게 되는 컴퓨터의 수를 첫째 줄에 출력한다."
      ],
      "metadata": {
        "id": "K2Ux3v6DKsOT"
      }
    },
    {
      "cell_type": "markdown",
      "source": [
        "## 예제 입력 1\n",
        "```\n",
        "7\n",
        "6\n",
        "1 2\n",
        "2 3\n",
        "1 5\n",
        "5 2\n",
        "5 6\n",
        "4 7\n",
        "```\n",
        "\n",
        "## 예제 출력 1\n",
        "4"
      ],
      "metadata": {
        "id": "_Bcg74ZXK8lN"
      }
    },
    {
      "cell_type": "code",
      "execution_count": 1,
      "metadata": {
        "colab": {
          "base_uri": "https://localhost:8080/"
        },
        "id": "-NPQLn7rKlfQ",
        "outputId": "8cfc3346-8d39-49ad-f4bd-4fd436c9f79e"
      },
      "outputs": [
        {
          "output_type": "stream",
          "name": "stdout",
          "text": [
            "7\n",
            "6\n",
            "1 2\n",
            "[[], [2], [], [], [], [], [], []]\n",
            "2 3\n",
            "[[], [2], [3], [], [], [], [], []]\n",
            "1 5\n",
            "[[], [2, 5], [3], [], [], [], [], []]\n",
            "5 2\n",
            "[[], [2, 5], [3], [], [], [2], [], []]\n",
            "5 6\n",
            "[[], [2, 5], [3], [], [], [2, 6], [], []]\n",
            "4 7\n",
            "[[], [2, 5], [3], [], [7], [2, 6], [], []]\n"
          ]
        }
      ],
      "source": [
        "from collections import deque\n",
        "\n",
        "computer_num = int(input())\n",
        "edge_num = int(input())\n",
        "\n",
        "# 연결 정보 입력받기\n",
        "graph = [[] for _ in range(computer_num+1)]\n",
        "for _ in range(edge_num):\n",
        "  a, b = map(int, input().split())\n",
        "  graph[a].append(b)\n",
        "  print(graph)"
      ]
    },
    {
      "cell_type": "code",
      "source": [
        "result = 0\n",
        "# 초기화\n",
        "distance = [-1] * (computer_num+1)\n",
        "# 너비 우선 탐색(BFS) 수행\n",
        "q = deque([1])\n",
        "while q:\n",
        "    now = q.popleft()\n",
        "    # 현재 노드에서 이동할 수 있는 모든 노드를 확인\n",
        "    for next_node in graph[now]:\n",
        "        # 아직 방문하지 않은 노드라면\n",
        "        if distance[next_node] == -1:\n",
        "          # 방문하자고\n",
        "            distance[next_node] = distance[now] + 1\n",
        "            q.append(next_node)\n",
        "            result += 1\n",
        "\n",
        "print(result)"
      ],
      "metadata": {
        "colab": {
          "base_uri": "https://localhost:8080/"
        },
        "id": "lLGXTvdaMKA7",
        "outputId": "6146adb8-72d3-4df8-a8be-7dbc176da76d"
      },
      "execution_count": 4,
      "outputs": [
        {
          "output_type": "stream",
          "name": "stdout",
          "text": [
            "4\n"
          ]
        }
      ]
    },
    {
      "cell_type": "markdown",
      "source": [
        "# 다른 사람의 답"
      ],
      "metadata": {
        "id": "U7jtF_YhOqDs"
      }
    },
    {
      "cell_type": "code",
      "source": [
        "n = int(input())\n",
        "m = int(input())\n",
        "graph = [[]*n for _ in range(n+1)]\n",
        "for _ in range(m):\n",
        "    a,b = map(int,input().split())\n",
        "    graph[a].append(b)\n",
        "    graph[b].append(a)"
      ],
      "metadata": {
        "colab": {
          "base_uri": "https://localhost:8080/"
        },
        "id": "k5QwNtIGOMrb",
        "outputId": "bf056653-4f9c-4579-d1b3-5e275fd7757c"
      },
      "execution_count": 5,
      "outputs": [
        {
          "name": "stdout",
          "output_type": "stream",
          "text": [
            "7\n",
            "6\n",
            "1 2\n",
            "2 3\n",
            "1 5\n",
            "5 2\n",
            "5 6\n",
            "4 7\n"
          ]
        }
      ]
    },
    {
      "cell_type": "code",
      "source": [
        "graph"
      ],
      "metadata": {
        "colab": {
          "base_uri": "https://localhost:8080/"
        },
        "id": "6SaQDuwrO_aQ",
        "outputId": "733f52ef-f72a-4783-de77-b76b66cc66cf"
      },
      "execution_count": 6,
      "outputs": [
        {
          "output_type": "execute_result",
          "data": {
            "text/plain": [
              "[[], [2, 5], [1, 3, 5], [2], [7], [1, 2, 6], [5], [4]]"
            ]
          },
          "metadata": {},
          "execution_count": 6
        }
      ]
    },
    {
      "cell_type": "code",
      "source": [
        "cnt = 0\n",
        "visited = [0]*(n+1)\n",
        "\n",
        "def dfs(start):\n",
        "    global cnt\n",
        "    visited[start] = 1\n",
        "    for i in graph[start]:\n",
        "        if visited[i]==0:\n",
        "            dfs(i)\n",
        "            cnt +=1\n",
        " \n",
        "dfs(1)\n",
        "print(cnt)"
      ],
      "metadata": {
        "colab": {
          "base_uri": "https://localhost:8080/"
        },
        "id": "UK6WrxvFO3NH",
        "outputId": "a9ab2227-331a-428d-ca9b-bb4b3c87dada"
      },
      "execution_count": 7,
      "outputs": [
        {
          "output_type": "stream",
          "name": "stdout",
          "text": [
            "4\n"
          ]
        }
      ]
    },
    {
      "cell_type": "code",
      "source": [
        ""
      ],
      "metadata": {
        "id": "6WVADWd3PY6q"
      },
      "execution_count": null,
      "outputs": []
    }
  ]
}