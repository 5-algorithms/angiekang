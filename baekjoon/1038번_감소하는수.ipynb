{
 "cells": [
  {
   "cell_type": "code",
   "execution_count": null,
   "metadata": {},
   "outputs": [],
   "source": [
    "from itertools import combinations\n",
    "import sys\n",
    "input = sys.stdin.readline\n",
    "\n",
    "def BOJ1038() :\n",
    "  N = int(input())\n",
    "  answers = []\n",
    "\n",
    "  for i in range(1, 11) :\n",
    "    for comb in combinations(range(0, 10), i) :\n",
    "      comb = list(comb)\n",
    "      comb.sort(reverse=True)\n",
    "      answers.append(int(\"\".join(map(str, comb))))\n",
    "\n",
    "  answers.sort()\n",
    "  \n",
    "  try :\n",
    "    print(answers[N])\n",
    "  except :\n",
    "    print(-1)"
   ]
  },
  {
   "cell_type": "code",
   "execution_count": null,
   "metadata": {},
   "outputs": [],
   "source": []
  }
 ],
 "metadata": {
  "language_info": {
   "name": "python"
  },
  "orig_nbformat": 4
 },
 "nbformat": 4,
 "nbformat_minor": 2
}
