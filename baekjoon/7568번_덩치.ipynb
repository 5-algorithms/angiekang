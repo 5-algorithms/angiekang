{
  "nbformat": 4,
  "nbformat_minor": 0,
  "metadata": {
    "colab": {
      "name": "7568번_덩치.ipynb",
      "provenance": []
    },
    "kernelspec": {
      "name": "python3",
      "display_name": "Python 3"
    },
    "language_info": {
      "name": "python"
    }
  },
  "cells": [
    {
      "cell_type": "markdown",
      "source": [
        "우리는 사람의 덩치를 키와 몸무게, 이 두 개의 값으로 표현하여 그 등수를 매겨보려고 한다. 어떤 사람의 몸무게가 x kg이고 키가 y cm라면 이 사람의 덩치는 (x, y)로 표시된다. 두 사람 A 와 B의 덩치가 각각 (x, y), (p, q)라고 할 때 x > p 그리고 y > q 이라면 우리는 A의 덩치가 B의 덩치보다 \"더 크다\"고 말한다. 예를 들어 어떤 A, B 두 사람의 덩치가 각각 (56, 177), (45, 165) 라고 한다면 A의 덩치가 B보다 큰 셈이 된다. 그런데 서로 다른 덩치끼리 크기를 정할 수 없는 경우도 있다. 예를 들어 두 사람 C와 D의 덩치가 각각 (45, 181), (55, 173)이라면 몸무게는 D가 C보다 더 무겁고, 키는 C가 더 크므로, \"덩치\"로만 볼 때 C와 D는 누구도 상대방보다 더 크다고 말할 수 없다.\n",
        "\n",
        "N명의 집단에서 각 사람의 덩치 등수는 자신보다 더 \"큰 덩치\"의 사람의 수로 정해진다. 만일 자신보다 더 큰 덩치의 사람이 k명이라면 그 사람의 덩치 등수는 k+1이 된다. 이렇게 등수를 결정하면 같은 덩치 등수를 가진 사람은 여러 명도 가능하다. 아래는 5명으로 이루어진 집단에서 각 사람의 덩치와 그 등수가 표시된 표이다.\n",
        "\n",
        "![image.png](data:image/png;base64,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)\n",
        "\n",
        "위 표에서 C보다 더 큰 덩치의 사람이 없으므로 C는 1등이 된다. 그리고 A, B, D 각각의 덩치보다 큰 사람은 C뿐이므로 이들은 모두 2등이 된다. 그리고 E보다 큰 덩치는 A, B, C, D 이렇게 4명이므로 E의 덩치는 5등이 된다. 위 경우에 3등과 4등은 존재하지 않는다. 여러분은 학생 N명의 몸무게와 키가 담긴 입력을 읽어서 각 사람의 덩치 등수를 계산하여 출력해야 한다."
      ],
      "metadata": {
        "id": "5Df0D1IfKpRU"
      }
    },
    {
      "cell_type": "code",
      "execution_count": 1,
      "metadata": {
        "colab": {
          "base_uri": "https://localhost:8080/"
        },
        "id": "YgNRC781Kbc1",
        "outputId": "5e95d7ae-a800-480f-f24d-6b344dcf2533"
      },
      "outputs": [
        {
          "name": "stdout",
          "output_type": "stream",
          "text": [
            "5\n",
            "55 185\n",
            "58 183\n",
            "88 186\n",
            "60 175\n",
            "46 155\n"
          ]
        }
      ],
      "source": [
        "n = int(input())\n",
        "ppl_list = []\n",
        "\n",
        "for _ in range(n):\n",
        "    weight, height = map(int, input().split())\n",
        "    ppl_list.append((weight, height))"
      ]
    },
    {
      "cell_type": "code",
      "source": [
        "ppl_list"
      ],
      "metadata": {
        "colab": {
          "base_uri": "https://localhost:8080/"
        },
        "id": "r0nNVvX2LYBa",
        "outputId": "5538468d-86c9-471c-9803-47ec2a641c1c"
      },
      "execution_count": 2,
      "outputs": [
        {
          "output_type": "execute_result",
          "data": {
            "text/plain": [
              "[(55, 185), (58, 183), (88, 186), (60, 175), (46, 155)]"
            ]
          },
          "metadata": {},
          "execution_count": 2
        }
      ]
    },
    {
      "cell_type": "code",
      "source": [
        "for i in ppl_list:\n",
        "    rank = 1\n",
        "    for j in ppl_list:\n",
        "        if i[0] < j[0] and i[1] < j[1]:\n",
        "                rank += 1\n",
        "    print(rank, end = \" \")"
      ],
      "metadata": {
        "colab": {
          "base_uri": "https://localhost:8080/"
        },
        "id": "5iJv8Jn-Lua6",
        "outputId": "4a330ce2-09c4-4362-ea35-d6fc9fe9eefa"
      },
      "execution_count": 3,
      "outputs": [
        {
          "output_type": "stream",
          "name": "stdout",
          "text": [
            "2 2 1 2 5 "
          ]
        }
      ]
    },
    {
      "cell_type": "code",
      "source": [
        ""
      ],
      "metadata": {
        "id": "gYyq6UxNL8RC"
      },
      "execution_count": null,
      "outputs": []
    }
  ]
}