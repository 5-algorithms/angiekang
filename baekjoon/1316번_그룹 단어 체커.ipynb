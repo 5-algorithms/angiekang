{
  "nbformat": 4,
  "nbformat_minor": 0,
  "metadata": {
    "colab": {
      "name": "1316번: 그룹 단어 체커.ipynb",
      "provenance": [],
      "collapsed_sections": []
    },
    "kernelspec": {
      "name": "python3",
      "display_name": "Python 3"
    },
    "language_info": {
      "name": "python"
    }
  },
  "cells": [
    {
      "cell_type": "markdown",
      "source": [
        "## 문제\n",
        "그룹 단어란 단어에 존재하는 모든 문자에 대해서, 각 문자가 연속해서 나타나는 경우만을 말한다. 예를 들면, ccazzzzbb는 c, a, z, b가 모두 연속해서 나타나고, kin도 k, i, n이 연속해서 나타나기 때문에 그룹 단어이지만, aabbbccb는 b가 떨어져서 나타나기 때문에 그룹 단어가 아니다.\n",
        "\n",
        "단어 N개를 입력으로 받아 그룹 단어의 개수를 출력하는 프로그램을 작성하시오.\n",
        "\n",
        "## 입력\n",
        "첫째 줄에 단어의 개수 N이 들어온다. N은 100보다 작거나 같은 자연수이다. 둘째 줄부터 N개의 줄에 단어가 들어온다. 단어는 알파벳 소문자로만 되어있고 중복되지 않으며, 길이는 최대 100이다.\n",
        "\n",
        "## 출력\n",
        "첫째 줄에 그룹 단어의 개수를 출력한다."
      ],
      "metadata": {
        "id": "dPWiuG1cC5G3"
      }
    },
    {
      "cell_type": "markdown",
      "source": [
        "## 예제 입력 1\n",
        "```\n",
        "3\n",
        "happy\n",
        "new\n",
        "year\n",
        "```\n",
        "\n",
        "## 예제 출력 1\n",
        "3\n",
        "\n",
        "## 예제 입력 2\n",
        "```\n",
        "4\n",
        "aba\n",
        "abab\n",
        "abcabc\n",
        "a\n",
        "```\n",
        "## 예제 출력 2\n",
        "1"
      ],
      "metadata": {
        "id": "-bts9OLBDDq-"
      }
    },
    {
      "cell_type": "code",
      "execution_count": 14,
      "metadata": {
        "colab": {
          "base_uri": "https://localhost:8080/"
        },
        "id": "-8Jjw0oyyk3m",
        "outputId": "05c89b73-e66a-42b5-f63e-fa4859633602"
      },
      "outputs": [
        {
          "output_type": "stream",
          "name": "stdout",
          "text": [
            "3\n",
            "happy\n",
            "new\n",
            "year\n",
            "3\n"
          ]
        }
      ],
      "source": [
        "n = int(input())\n",
        "\n",
        "result = 0\n",
        "\n",
        "def checkgroup(words):\n",
        "  hold = []\n",
        "  for word in words:\n",
        "    # 앞에 한번도 안나온 글자\n",
        "    if not word in hold: \n",
        "      hold.append(word)\n",
        "    # 앞에 한번 나왔는데 맨 뒤에꺼랑 같으면 통과하고\n",
        "    elif (word in hold) and (hold[-1]==word):\n",
        "      hold.append(word)\n",
        "    # 아니면 나가리임\n",
        "    else:\n",
        "      return False\n",
        "  return True\n",
        "\n",
        "for i in range(n):\n",
        "  words = []\n",
        "  words = list(str(input()))\n",
        "  if checkgroup(words):\n",
        "    result += 1\n",
        "\n",
        "print(result)"
      ]
    },
    {
      "cell_type": "markdown",
      "source": [
        "# 다른 사람의 풀이"
      ],
      "metadata": {
        "id": "Nk9Lo3agHsdC"
      }
    },
    {
      "cell_type": "code",
      "source": [
        "result = 0\n",
        "for i in range(int(input())):\n",
        "    word = input()\n",
        "    if list(word) == sorted(word, key=word.find):\n",
        "        result += 1\n",
        "print(result)\n"
      ],
      "metadata": {
        "colab": {
          "base_uri": "https://localhost:8080/"
        },
        "id": "jgXIG9P6FQvl",
        "outputId": "3339a257-b9bd-4f44-a71b-11fc80d63903"
      },
      "execution_count": 12,
      "outputs": [
        {
          "output_type": "stream",
          "name": "stdout",
          "text": [
            "3\n",
            "happy\n",
            "new\n",
            "year\n",
            "3\n"
          ]
        }
      ]
    },
    {
      "cell_type": "code",
      "source": [
        "n = int(input())\n",
        "\n",
        "group_word = 0\n",
        "for _ in range(n):\n",
        "    word = input()\n",
        "    error = 0\n",
        "    for index in range(len(word)-1):  # 인덱스 범위 생성 : 0부터 단어개수 -1까지 \n",
        "        if word[index] != word[index+1]:  # 연달은 두 문자가 다른 때,\n",
        "            new_word = word[index+1:]  # 현재글자 이후 문자열을 새로운 단어로 생성\n",
        "            if new_word.count(word[index]) > 0:  # 남은 문자열에서 현재글자가 있있다면\n",
        "                error += 1  # error에 1씩 증가.\n",
        "    if error == 0:  \n",
        "        group_word += 1  # error가 0이면 그룹단어\n",
        "print(group_word)"
      ],
      "metadata": {
        "colab": {
          "base_uri": "https://localhost:8080/"
        },
        "id": "4NGgrFwpIEgq",
        "outputId": "6b79e5de-5cc6-4fb4-9697-d478e25e521a"
      },
      "execution_count": 13,
      "outputs": [
        {
          "output_type": "stream",
          "name": "stdout",
          "text": [
            "3\n",
            "happy\n",
            "new\n",
            "year\n",
            "3\n"
          ]
        }
      ]
    }
  ]
}