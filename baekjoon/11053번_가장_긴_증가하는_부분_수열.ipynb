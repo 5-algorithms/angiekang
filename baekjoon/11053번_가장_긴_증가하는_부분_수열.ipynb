{
  "nbformat": 4,
  "nbformat_minor": 0,
  "metadata": {
    "colab": {
      "name": "11053번_가장 긴 증가하는 부분 수열.ipynb",
      "provenance": [],
      "collapsed_sections": []
    },
    "kernelspec": {
      "name": "python3",
      "display_name": "Python 3"
    },
    "language_info": {
      "name": "python"
    }
  },
  "cells": [
    {
      "cell_type": "markdown",
      "source": [
        "# 문제\n",
        "수열 A가 주어졌을 때, 가장 긴 증가하는 부분 수열을 구하는 프로그램을 작성하시오.\n",
        "\n",
        "예를 들어, 수열 A = {10, 20, 10, 30, 20, 50} 인 경우에 가장 긴 증가하는 부분 수열은 A = {**10**, **20**, 10, **30**, 20, **50**} 이고, 길이는 4이다.\n",
        "\n",
        "## 입력\n",
        "첫째 줄에 수열 A의 크기 N (1 ≤ N ≤ 1,000)이 주어진다.\n",
        "\n",
        "둘째 줄에는 수열 A를 이루고 있는 Ai가 주어진다. (1 ≤ Ai ≤ 1,000)\n",
        "\n",
        "## 출력\n",
        "첫째 줄에 수열 A의 가장 긴 증가하는 부분 수열의 길이를 출력한다.\n",
        "\n"
      ],
      "metadata": {
        "id": "HqmKOvWQUsST"
      }
    },
    {
      "cell_type": "markdown",
      "source": [
        "## 예제 입력\n",
        "```\n",
        "6\n",
        "10 20 10 30 20 50\n",
        "```\n",
        "\n",
        "## 예제 출력\n",
        "4\n"
      ],
      "metadata": {
        "id": "NQWSbUWZU1Ox"
      }
    },
    {
      "cell_type": "markdown",
      "source": [
        "\n",
        "\n",
        "---\n",
        "\n"
      ],
      "metadata": {
        "id": "k4seKOR5a88G"
      }
    },
    {
      "cell_type": "code",
      "execution_count": 1,
      "metadata": {
        "colab": {
          "base_uri": "https://localhost:8080/"
        },
        "id": "O4cyUzhbUcxz",
        "outputId": "b8702dfb-f6ed-45f2-edba-bf3f64bca417"
      },
      "outputs": [
        {
          "name": "stdout",
          "output_type": "stream",
          "text": [
            "6\n",
            "10 20 10 30 20 50\n"
          ]
        }
      ],
      "source": [
        "n = int(input())\n",
        "numlist = list(map(int, input().split()))"
      ]
    },
    {
      "cell_type": "code",
      "source": [
        "purelist = []\n",
        "\n",
        "for num in numlist:\n",
        "  if len(purelist) == 0:\n",
        "    purelist.append(num)\n",
        "    print(purelist)\n",
        "  if not num in purelist:\n",
        "    if max(purelist) < num:\n",
        "      purelist.append(num)\n",
        "      print(purelist)\n",
        "\n",
        "print(len(purelist))"
      ],
      "metadata": {
        "colab": {
          "base_uri": "https://localhost:8080/"
        },
        "id": "V9meSZm5VSmC",
        "outputId": "468dfa51-f5b9-4656-99dc-9712e3125ff9"
      },
      "execution_count": 9,
      "outputs": [
        {
          "output_type": "stream",
          "name": "stdout",
          "text": [
            "[10]\n",
            "[10, 20]\n",
            "[10, 20, 30]\n",
            "[10, 20, 30, 50]\n",
            "4\n"
          ]
        }
      ]
    },
    {
      "cell_type": "code",
      "source": [
        "max(purelist)"
      ],
      "metadata": {
        "colab": {
          "base_uri": "https://localhost:8080/"
        },
        "id": "eScf6Ge9Vv9p",
        "outputId": "08638ac1-e463-4a58-94f9-f805ee1bfaaf"
      },
      "execution_count": 8,
      "outputs": [
        {
          "output_type": "execute_result",
          "data": {
            "text/plain": [
              "50"
            ]
          },
          "metadata": {},
          "execution_count": 8
        }
      ]
    },
    {
      "cell_type": "markdown",
      "source": [
        "\n",
        "\n",
        "---\n",
        "\n",
        "\n",
        "\n",
        "---\n",
        "\n"
      ],
      "metadata": {
        "id": "udgFTgAQa4_G"
      }
    },
    {
      "cell_type": "markdown",
      "source": [
        "# 정답 풀이\n",
        "- LIS(Longest Increasing Subsequence) 라는 유명한 DP 문제.\n",
        "- dp 리스트에 자신을 포함하여 만들 수 있는 부분 수열 크기를 저장해야 함.![image.png](data:image/png;base64,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)\n",
        "- 첫번째 인덱스부터 수열의 길이의 최댓값을 저장해 나감"
      ],
      "metadata": {
        "id": "5_gbx1K5XQBE"
      }
    },
    {
      "cell_type": "code",
      "source": [
        "N = int(input())\n",
        "A = list(map(int, input().split()))\n",
        "\n",
        "dp = [1] * N\n",
        "\n",
        "for i in range(N):\n",
        "    for j in range(i):\n",
        "        if A[j] < A[i]:\n",
        "            dp[i] = max(dp[i],dp[j]+1)\n",
        "\n",
        "print(max(dp))"
      ],
      "metadata": {
        "colab": {
          "base_uri": "https://localhost:8080/"
        },
        "id": "nEmsr0HXWeNh",
        "outputId": "2391222e-0234-4a42-bdc7-22f6631b8f31"
      },
      "execution_count": 10,
      "outputs": [
        {
          "output_type": "stream",
          "name": "stdout",
          "text": [
            "6\n",
            "10 20 10 30 20 50\n",
            "4\n"
          ]
        }
      ]
    },
    {
      "cell_type": "code",
      "source": [
        "n = int(input())\n",
        "a = list(map(int, input().split()))\n",
        "\n",
        "dp = [0 for i in range(n)]\n",
        "\n",
        "for i in range(n):\n",
        "    for j in range(i):\n",
        "        if a[i] > a[j] and dp[i] < dp[j]:\n",
        "            dp[i] = dp[j]\n",
        "    dp[i] += 1\n",
        "    \n",
        "print(max(dp))"
      ],
      "metadata": {
        "colab": {
          "base_uri": "https://localhost:8080/"
        },
        "id": "NCJaUNaGYADM",
        "outputId": "58d0f0af-358e-4c36-b1b1-8febd49cd8bf"
      },
      "execution_count": 11,
      "outputs": [
        {
          "output_type": "stream",
          "name": "stdout",
          "text": [
            "6\n",
            "10 20 10 30 20 50\n",
            "4\n"
          ]
        }
      ]
    },
    {
      "cell_type": "markdown",
      "source": [
        "\n",
        "\n",
        "---\n",
        "\n",
        "\n",
        "\n",
        "---\n",
        "\n"
      ],
      "metadata": {
        "id": "8nbZWVXXa2oL"
      }
    },
    {
      "cell_type": "markdown",
      "source": [
        "## 다이나믹 프로그래밍\n",
        "- 한 번 계산한 문제는 다시 계산하지 않도록 한다.\n",
        "- 메모리 공간을 약간 더 사용해서 연산 속도를 비약적으로 증가\n",
        "\n",
        "### 조건 \n",
        "- 큰 문제를 작은 문제로 나눌 수 있다.\n",
        "- 작은 문제에서 구한 정답은 그것을 포함하는 큰 문제에서도 동일하다.\n",
        "\n",
        "### 예시\n",
        "- 피보나치 수열 $$a_n = a_{n-1} + a_{n-2}, a_1=1, a_2=1 $$\n",
        "\n",
        "- python 재귀함수로 구현\n",
        "  ```\n",
        "  import time\n",
        "\n",
        "  def fibo(x):\n",
        "      if x == 1 or x == 2:\n",
        "          return 1\n",
        "\n",
        "      return fibo(x-1) + fibo(x-2)\n",
        "\n",
        "  for num in range(5, 40, 10):\n",
        "      start = time.time()\n",
        "      res = fibo(num)\n",
        "      print(res, '-> 러닝타임:', round(time.time() - start, 2), '초')\n",
        "  ```\n",
        "  - 연산 수행시간이 기하급수적으로 늘어남\n",
        "- 다이나믹 프로그래밍 방식(top-down)\n",
        "  ```\n",
        "  import time\n",
        "\n",
        "  d = [0] * 50\n",
        "\n",
        "  def fibo(x):\n",
        "      if x == 1 or x == 2:\n",
        "          return 1\n",
        "      if d[x] != 0:\n",
        "          return d[x]\n",
        "      d[x] = fibo(x-1) + fibo(x-2)\n",
        "      return d[x]\n",
        "\n",
        "  for num in range(5, 40, 10):\n",
        "      start = time.time()\n",
        "      res = fibo(num)\n",
        "      print(res, '-> 러닝타임:', round(time.time() - start, 2), '초')\n",
        "  ```\n",
        "  - 바로 한 번 결과를 수행한 것을 메모리에 저장해 놓고 다음에 똑같은 결과가 필요하면 다시 연산하지 않고 메모리에 저장된 그 값을 가져와 쓰는 것.\n",
        "  - 메모제이션(캐싱) 방식 : top-down 방식\n",
        "- 다이나믹 프로그래밍 방식(bottom-up)\n",
        "  ```\n",
        "  d = [0] * 100\n",
        "\n",
        "  d[1] = 1 # 첫 번째 항\n",
        "  d[2] = 1 # 두 번째 항\n",
        "  N = 99   # 피보나치 수열의 99번째 숫자는?\n",
        "\n",
        "  for i in range(3, N+1):\n",
        "      d[i] = d[i-1] + d[i-2]\n",
        "\n",
        "  print(d[N])\n",
        "  ```\n",
        "  - 작은 문제부터 차근차근 답을 도출해서 큰 문제를 해결\n",
        "  - DP 테이블 이용"
      ],
      "metadata": {
        "id": "5zrIZe1MYi6x"
      }
    }
  ]
}