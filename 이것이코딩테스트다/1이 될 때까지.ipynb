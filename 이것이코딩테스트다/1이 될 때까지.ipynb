{
 "cells": [
  {
   "cell_type": "markdown",
   "id": "d85c750f",
   "metadata": {},
   "source": [
    "어떠한 수 N이 1이 될 때까지 다음의 두 과정 중 하나를 반복적으로 선택하여 수행하려고 한다.  \n",
    "단, 두 번째 연산은 N이 K로 나누어떨어질 때만 선택할 수 있다.\n",
    "1. N에서 1을 뺀다.\n",
    "2. N을 K로 나눈다.\n",
    "\n",
    "예를 들어 N이 17, K가 4라고 가정하자.  \n",
    "이때 1번의 과정을 한 번 수행하면 N은 16이 된다.  \n",
    "이후에 2번의 과정을 두 번 수행하면 N은 1이 된다.  \n",
    "결과적으로 이 경우 전체 과정을 실행한 횟수는 3이 된다. \n",
    "이는 N을 1로 만드는 최소 횟수이다.\n",
    "\n",
    "N과 K가 주어질 때 N이 1이 될 때까지 1번 혹은 2번의 과정을 수행해야 하는 최소 횟수를 구하는 프로그램을 작성하시오."
   ]
  },
  {
   "cell_type": "markdown",
   "id": "8c2f4c2d",
   "metadata": {},
   "source": [
    "### 입력 조건\n",
    "- 첫째 줄에 N(2<= N <= 100,000)과 K(2<= K <= 100,000)가 공백으로 구분되며 각각 자연수로 주어진다. 이때 입력으로 주어지는 N은 항상 K보다 크거나 작다.\n",
    "\n",
    "### 출력 조건\n",
    "- 첫째 줄에 N이 1이 될 때까지 1번 혹은 2번의 과정을 수행해야 하는 최솟값을 출력한다.\n",
    "\n",
    "### 입력 예시\n",
    "25 5\n",
    "\n",
    "### 출력 예시\n",
    "2"
   ]
  },
  {
   "cell_type": "markdown",
   "id": "60c1aaca",
   "metadata": {},
   "source": [
    "## trial"
   ]
  },
  {
   "cell_type": "code",
   "execution_count": 9,
   "id": "bc4d5ae1",
   "metadata": {},
   "outputs": [
    {
     "name": "stdout",
     "output_type": "stream",
     "text": [
      "17 4\n",
      "3\n"
     ]
    }
   ],
   "source": [
    "#N, K 받기\n",
    "n, k = map(int, input().split())\n",
    "\n",
    "run = 0\n",
    "\n",
    "#\n",
    "while n > 1 :\n",
    "    if (n %k == 0): # 나누어 떨어지는 수라면 2번 수행\n",
    "        n /= k\n",
    "        run += 1\n",
    "    else: # 나누어 떨어지지 않는 수면 1번 수행\n",
    "        n -= 1\n",
    "        run += 1\n",
    "\n",
    "print(run)"
   ]
  },
  {
   "cell_type": "markdown",
   "id": "1f515795",
   "metadata": {},
   "source": [
    "## 답안 1: 단순하게 푸는 답안 예시"
   ]
  },
  {
   "cell_type": "code",
   "execution_count": 10,
   "id": "395b91f1",
   "metadata": {},
   "outputs": [
    {
     "name": "stdout",
     "output_type": "stream",
     "text": [
      "25 5\n",
      "2\n"
     ]
    }
   ],
   "source": [
    "n, k = map(int, input().split())\n",
    "result = 0\n",
    "\n",
    "#N이 K 이상이라면 K로 계속 나누기\n",
    "while n >= k:\n",
    "    #N이 K로 나누어 떨어지지 않는다면 N에서 1씩 빼기\n",
    "    while n % k != 0:\n",
    "        n -= 1\n",
    "        result += 1\n",
    "    # k로 나누기\n",
    "    n //= k\n",
    "    result += 1\n",
    "    \n",
    "print(result)"
   ]
  },
  {
   "cell_type": "markdown",
   "id": "6f9c5696",
   "metadata": {},
   "source": [
    "## 답안 2"
   ]
  },
  {
   "cell_type": "code",
   "execution_count": 16,
   "id": "2301397d",
   "metadata": {},
   "outputs": [
    {
     "name": "stdout",
     "output_type": "stream",
     "text": [
      "25 5\n",
      "2\n"
     ]
    }
   ],
   "source": [
    "n, k = map(int, input().split())\n",
    "result = 0\n",
    "\n",
    "while True:\n",
    "    # (N == K로 나누어떨어지는 수)가 될 때까지 1씩 빼기\n",
    "    target = (n//k)*k\n",
    "    #print('target', target)\n",
    "    result += (n-target)\n",
    "    #print('- result', result)\n",
    "    n = target\n",
    "    #print('n', n)\n",
    "    \n",
    "    # N이 K보다 작을 때(더 이상 나눌 수 없을 때) 반복문 탈출\n",
    "    if n < k:\n",
    "        break\n",
    "        \n",
    "    # K로 나누기\n",
    "    result += 1\n",
    "    #print('/ result', result)\n",
    "    n //= k\n",
    "    \n",
    "# 마지막으로 남은 수에 대하여 1씩 빼기    \n",
    "result += (n-1)\n",
    "print(result)"
   ]
  },
  {
   "cell_type": "code",
   "execution_count": null,
   "id": "37b31e5f",
   "metadata": {},
   "outputs": [],
   "source": []
  }
 ],
 "metadata": {
  "kernelspec": {
   "display_name": "Python 3",
   "language": "python",
   "name": "python3"
  },
  "language_info": {
   "codemirror_mode": {
    "name": "ipython",
    "version": 3
   },
   "file_extension": ".py",
   "mimetype": "text/x-python",
   "name": "python",
   "nbconvert_exporter": "python",
   "pygments_lexer": "ipython3",
   "version": "3.8.8"
  }
 },
 "nbformat": 4,
 "nbformat_minor": 5
}
