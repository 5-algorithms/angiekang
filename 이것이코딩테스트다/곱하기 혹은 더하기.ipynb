{
 "cells": [
  {
   "cell_type": "markdown",
   "id": "43904508",
   "metadata": {},
   "source": [
    "각 자리가 숫자(0부터 9)로만 이루어진 문자열 S가 주어졌을 때, 왼쪽부터 오른쪽으로 하나씩 모든ㄴ 숫자를 확인하며 숫자 사이에 'x' 혹은 '+' 연산자를 넣어 결과적으로 만들어질 수 있는 가장 큰 수를 구하는 프로그램을 작성하세요. 단 +보다 x를 먼저 계산하는 일반적인 방식과는 달리, 모든 연산은 왼쪽에서부터 순서대로 이루어진다고 가정합니다."
   ]
  },
  {
   "cell_type": "markdown",
   "id": "5d3e1390",
   "metadata": {},
   "source": [
    "### 입력 조건\n",
    "- 첫째 줄에 여러 개의 숫자로 구성된 하나의 문자열 S가 주어집니다. (1 <= S의 길이 <= 20)\n",
    "\n",
    "### 출력 조건\n",
    "- 첫째 줄에 만들어질 수 있는 가장 큰 수를 출력합니다.\n",
    "\n",
    "### 입력 예시1\n",
    "02984\n",
    "\n",
    "### 출력 예시1\n",
    "576\n",
    "\n",
    "### 입력 예시2\n",
    "567\n",
    "\n",
    "### 출력 예시2\n",
    "210"
   ]
  },
  {
   "cell_type": "markdown",
   "id": "2e51a7dd",
   "metadata": {},
   "source": [
    "## trial"
   ]
  },
  {
   "cell_type": "code",
   "execution_count": 3,
   "id": "57980d99",
   "metadata": {},
   "outputs": [
    {
     "name": "stdout",
     "output_type": "stream",
     "text": [
      "567\n",
      "210\n"
     ]
    }
   ],
   "source": [
    "s = list(map(int, input()))\n",
    "result = 1\n",
    "\n",
    "for i in s:\n",
    "    if i == 0:\n",
    "        result = result + i\n",
    "    else:\n",
    "        result  = result * i\n",
    "\n",
    "print(result)            "
   ]
  },
  {
   "cell_type": "markdown",
   "id": "a3168e5e",
   "metadata": {},
   "source": [
    "## 정답"
   ]
  },
  {
   "cell_type": "code",
   "execution_count": 4,
   "id": "79096afa",
   "metadata": {},
   "outputs": [
    {
     "name": "stdout",
     "output_type": "stream",
     "text": [
      "02984\n",
      "576\n"
     ]
    }
   ],
   "source": [
    "data = input()\n",
    "\n",
    "# 첫 번째 문자를 숫자로 변경하여 대입\n",
    "result = int(data[0])\n",
    "\n",
    "for i in range(1, len(data)):\n",
    "    # 두 수 중에서 하나라도 '0' 혹은 '1'인 경우, 곱하기보다는 더하기 수행\n",
    "    num = int(data[i])\n",
    "    if num <= 1 or result <= 1:\n",
    "        result += num\n",
    "    else:\n",
    "        result *= num\n",
    "        \n",
    "print(result)"
   ]
  },
  {
   "cell_type": "code",
   "execution_count": null,
   "id": "ba23756e",
   "metadata": {},
   "outputs": [],
   "source": []
  }
 ],
 "metadata": {
  "kernelspec": {
   "display_name": "Python 3",
   "language": "python",
   "name": "python3"
  },
  "language_info": {
   "codemirror_mode": {
    "name": "ipython",
    "version": 3
   },
   "file_extension": ".py",
   "mimetype": "text/x-python",
   "name": "python",
   "nbconvert_exporter": "python",
   "pygments_lexer": "ipython3",
   "version": "3.8.8"
  }
 },
 "nbformat": 4,
 "nbformat_minor": 5
}
