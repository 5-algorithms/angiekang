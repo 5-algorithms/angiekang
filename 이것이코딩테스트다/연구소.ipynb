{
 "cells": [
  {
   "cell_type": "markdown",
   "id": "2a14cdb3",
   "metadata": {},
   "source": [
    "### 입력 예시1\n",
    "```\n",
    "7 7\n",
    "2 0 0 0 1 1 0\n",
    "0 0 1 0 1 2 0\n",
    "0 1 1 0 1 0 0\n",
    "0 1 0 0 0 0 0 \n",
    "0 0 0 0 0 1 1\n",
    "0 1 0 0 0 0 0\n",
    "0 1 0 0 0 0 0\n",
    "```\n",
    "### 출력 예시1\n",
    "27"
   ]
  },
  {
   "cell_type": "code",
   "execution_count": 14,
   "id": "f7c47d8c",
   "metadata": {},
   "outputs": [
    {
     "name": "stdout",
     "output_type": "stream",
     "text": [
      "2 3\n",
      "0 2 1\n",
      "0 1 0\n",
      "[[0, 2, 1], [0, 1, 0]]\n",
      "[]\n"
     ]
    }
   ],
   "source": [
    "n, m = map(int, input().split())\n",
    "\n",
    "graph = []\n",
    "for i in range(n):\n",
    "    graph.append(list(map(int, input().split())))\n",
    "    \n",
    "#def make_wall():\n",
    "       \n",
    "    \n",
    "def dfs(x, y):\n",
    "    # 주어진 범위를 벗어나는 경우에는 즉시 종료\n",
    "    if x <= -1 or x >= n or y <= -1 or y >=m:\n",
    "        return False\n",
    "    if graph[x][y] == 1:\n",
    "        return False\n",
    "    # 해당 노드 방문 처리\n",
    "    graph[x][y] = 2\n",
    "    # 상, 하, 좌, 우의 위치도 모두 재귀적으로 호출\n",
    "    dfs(x -1, y)\n",
    "    dfs(x, y - 1)\n",
    "    dfs(x + 1, y)\n",
    "    dfs(x, y + 1)\n",
    "    return False\n",
    "       \n",
    "    \n",
    "#벽 세우기    \n",
    "#바이러스 퍼뜨리기 \n",
    "virus = 0\n",
    "#현재 2의 위치 찾으셈\n",
    "def find_index(data, target):\n",
    "    res = []\n",
    "    lis = data\n",
    "    while True:\n",
    "        try:\n",
    "            res.append(lis.index(target) + (res[-1]+1 if len(res)!=0 else 0))\n",
    "            lis = data[res[-1]+1:]\n",
    "        except:\n",
    "            break     \n",
    "    return res\n",
    "\n",
    "wichi = find_index(graph,2)\n",
    "\n",
    "        #if dfs(i,j) == True:\n",
    "            #virus += 1\n",
    "print(graph)\n",
    "print(wichi)"
   ]
  },
  {
   "cell_type": "markdown",
   "id": "ae70eca1",
   "metadata": {},
   "source": [
    "## 정답"
   ]
  },
  {
   "cell_type": "code",
   "execution_count": 26,
   "id": "ce750b01",
   "metadata": {},
   "outputs": [
    {
     "name": "stdout",
     "output_type": "stream",
     "text": [
      "7 7\n",
      "2 0 0 0 1 1 0\n",
      "0 0 1 0 1 2 0\n",
      "0 1 1 0 1 0 0\n",
      "0 1 0 0 0 0 0\n",
      "0 0 0 0 0 1 1\n",
      "0 1 0 0 0 0 0\n",
      "0 1 0 0 0 0 0\n",
      "27\n"
     ]
    }
   ],
   "source": [
    "n, m = map(int, input().split())\n",
    "data = [] # 초기 맵 리스트\n",
    "temp = [[0] * m for _ in range(n)] # 벽을 설치한 뒤의 맵 리스트\n",
    "\n",
    "for _ in range(n):\n",
    "    data.append(list(map(int, input().split())))\n",
    "\n",
    "# 4가지 이동 방향에 대한 리스트\n",
    "dx = [-1, 0, 1, 0]\n",
    "dy = [0, 1, 0, -1]\n",
    "\n",
    "result = 0\n",
    "\n",
    "# 깊이 우선 탐색(DFS)을 이용해 각 바이러스가 사방으로 퍼지도록 하기\n",
    "def virus(x, y):\n",
    "    for i in range(4):\n",
    "        nx = x + dx[i]\n",
    "        ny = y + dy[i]\n",
    "        # 상, 하, 좌, 우 중에서 바이러스가 퍼질 수 있는 경우\n",
    "        if nx >= 0 and nx < n and ny >= 0 and ny < m:\n",
    "            if temp[nx][ny] == 0:\n",
    "                # 해당 위치에 바이러스 배치하고, 다시 재귀적으로 수행\n",
    "                temp[nx][ny] = 2\n",
    "                virus(nx, ny)\n",
    "\n",
    "# 현재 맵에서 안전 영역의 크기 계산하는 메서드\n",
    "def get_score():\n",
    "    score = 0\n",
    "    for i in range(n):\n",
    "        for j in range(m):\n",
    "            if temp[i][j] == 0:\n",
    "                score += 1\n",
    "    return score\n",
    "\n",
    "# 깊이 우선 탐색(DFS)을 이용해 울타리를 설치하면서, 매 번 안전 영역의 크기 계산\n",
    "def dfs(count):\n",
    "    global result\n",
    "    # 울타리가 3개 설치된 경우\n",
    "    if count == 3:\n",
    "        for i in range(n):\n",
    "            for j in range(m):\n",
    "                temp[i][j] = data[i][j]\n",
    "        # 각 바이러스의 위치에서 전파 진행\n",
    "        for i in range(n):\n",
    "            for j in range(m):\n",
    "                if temp[i][j] == 2:\n",
    "                    virus(i, j)\n",
    "        # 안전 영역의 최대값 계산\n",
    "        result = max(result, get_score())\n",
    "        return\n",
    "    # 빈 공간에 울타리를 설치\n",
    "    for i in range(n):\n",
    "        for j in range(m):\n",
    "            if data[i][j] == 0:\n",
    "                data[i][j] = 1\n",
    "                count += 1\n",
    "                dfs(count)\n",
    "                data[i][j] = 0\n",
    "                count -= 1\n",
    "\n",
    "dfs(0)\n",
    "print(result)"
   ]
  },
  {
   "cell_type": "code",
   "execution_count": null,
   "id": "b711af80",
   "metadata": {},
   "outputs": [],
   "source": []
  }
 ],
 "metadata": {
  "kernelspec": {
   "display_name": "Python 3",
   "language": "python",
   "name": "python3"
  },
  "language_info": {
   "codemirror_mode": {
    "name": "ipython",
    "version": 3
   },
   "file_extension": ".py",
   "mimetype": "text/x-python",
   "name": "python",
   "nbconvert_exporter": "python",
   "pygments_lexer": "ipython3",
   "version": "3.8.8"
  }
 },
 "nbformat": 4,
 "nbformat_minor": 5
}
