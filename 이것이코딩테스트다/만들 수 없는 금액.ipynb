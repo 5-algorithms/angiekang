{
 "cells": [
  {
   "cell_type": "markdown",
   "id": "e19ba0ea",
   "metadata": {},
   "source": [
    "동네 편의점의 주인인 동빈이는 N개의 동전을 가지고 있습니다. 이때 N개의 동전을 이용하여 만들 수 없는 양의 정수 금액 중 최솟값을 구하는 프로그램을 작성하세요.  \n",
    "예를 들어, N = 5이고, 각 동전이 각각 3원,2원,1원,1원,9원짜리(화폐단위) 동전이라고 가정합시다. 이때 동빈이가 만들 수 없는 양의 정수 금액 중 최솟값은 8원입니다.  \n",
    "또 다른 예시로, N = 3이고, 각 동전이 각각 3원,5원,7원짜리(화폐단위) 동전이라고 가정합시다. 이때 동빈이가 만들 수 없는 양의 정수 금액 중 최솟값은 1원입니다.\n",
    "\n",
    "### 입력 예시\n",
    "5 \n",
    "\n",
    "3 2 1 1 9\n",
    "### 출력 예시\n",
    "8"
   ]
  },
  {
   "cell_type": "code",
   "execution_count": 18,
   "id": "f6ff5586",
   "metadata": {},
   "outputs": [
    {
     "name": "stdout",
     "output_type": "stream",
     "text": [
      "5\n",
      "3 2 1 1 9\n",
      "8\n"
     ]
    }
   ],
   "source": [
    "n = int(input())\n",
    "coins = list(map(int, input().split()))\n",
    "coins.sort(reverse = True)\n",
    "result = 0\n",
    "\n",
    "while True:\n",
    "    result += 1\n",
    "    now = result\n",
    "    for j in coins:\n",
    "        if(now >= j):\n",
    "            now -= j\n",
    "    if now >= 1:\n",
    "        print(result)\n",
    "        break    "
   ]
  },
  {
   "cell_type": "markdown",
   "id": "5859a6b7",
   "metadata": {},
   "source": [
    "## 정답"
   ]
  },
  {
   "cell_type": "code",
   "execution_count": 22,
   "id": "0ab97d68",
   "metadata": {},
   "outputs": [
    {
     "name": "stdout",
     "output_type": "stream",
     "text": [
      "5\n",
      "3 2 1 1 9\n",
      "8\n"
     ]
    }
   ],
   "source": [
    "n = int(input())\n",
    "data = list(map(int, input().split()))\n",
    "data.sort()\n",
    "\n",
    "target = 1\n",
    "for x in data:\n",
    "    # 만들 수 없는 금액을 찾았을 때 반복 종료\n",
    "    if target < x:\n",
    "        break\n",
    "    target += x\n",
    "\n",
    "# 만들 수 없는 금액 출력\n",
    "print(target)"
   ]
  },
  {
   "cell_type": "code",
   "execution_count": null,
   "id": "76a82fe8",
   "metadata": {},
   "outputs": [],
   "source": []
  }
 ],
 "metadata": {
  "kernelspec": {
   "display_name": "Python 3",
   "language": "python",
   "name": "python3"
  },
  "language_info": {
   "codemirror_mode": {
    "name": "ipython",
    "version": 3
   },
   "file_extension": ".py",
   "mimetype": "text/x-python",
   "name": "python",
   "nbconvert_exporter": "python",
   "pygments_lexer": "ipython3",
   "version": "3.8.8"
  }
 },
 "nbformat": 4,
 "nbformat_minor": 5
}
