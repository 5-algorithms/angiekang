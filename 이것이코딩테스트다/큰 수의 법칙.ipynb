{
 "cells": [
  {
   "cell_type": "markdown",
   "id": "eff71219",
   "metadata": {},
   "source": [
    "### 입력 조건\n",
    "- 첫째 줄에 N(2<= N <= 1000), M(1<= M <= 10000), K(1<= K <= 10000)의 자연수가 주어지며, 각 자연수는 공백으로 구분한다\n",
    "- 둘째 줄에 N개의 자연수가 주어진다. 각 자연수는 공백으로 구분한다. 단, 각각의 자연수는 1이상 10000이하의 수로 주어진다\n",
    "- 입력으로 주어지는 K는 항상 M보다 작거나 같다.\n",
    "\n",
    "### 출력 조건\n",
    "- 첫째 줄에 동빈이의 큰 수의 법칙에 따라 더해진 답을 출력한다.\n",
    "- 다양한 수로 이루어진 배열이 있을 때 주어진 수들을 M번 더하여 가장 큰 수를 만드는 법칙\n",
    "- 단, 배열의 특정한 인덱스(번호)에 해당하는 수가 연속해서 K번을 초과하여 더해질 수 없다.\n",
    "\n",
    "### 입력 예시\n",
    " 5 8 3 \n",
    " \n",
    " 2 4 5 4 6 \n",
    "\n",
    "### 출력 예시  \n",
    " 46"
   ]
  },
  {
   "cell_type": "code",
   "execution_count": 10,
   "id": "03f07690",
   "metadata": {},
   "outputs": [
    {
     "name": "stdout",
     "output_type": "stream",
     "text": [
      "5 8 3 \n",
      "2 4 5 4 6\n",
      "45\n"
     ]
    }
   ],
   "source": [
    "#N, M, K를 공백으로 구분하여 입력받기\n",
    "n, m, k = map(int, input().split())\n",
    "#N개의 수를 공백으로 구분하여 입력받기\n",
    "data = list(map(int, input().split()))\n",
    "\n",
    "data.sort()\n",
    "\n",
    "count = 0 \n",
    "result = 0\n",
    "\n",
    "while count < m:\n",
    "    if count % 3 ==0:\n",
    "        d = data[int(n-(count/3)-1)]\n",
    "    for i in range(k):\n",
    "        result += d\n",
    "        count += 1 \n",
    "        \n",
    "print(result)"
   ]
  },
  {
   "cell_type": "markdown",
   "id": "6dd73e6c",
   "metadata": {},
   "source": [
    "## 문제 해설\n",
    "이 문제를 해결하려면 일단 입력값 중에서 가장 큰 수와 두번째로 큰 수만 저장하면 된다. \n",
    "\n",
    "연속으로 더할 수 있는 횟수는 최대 K번이므로 '가장 큰 수를 K번 더하고 두 번째로 큰 수를 한 번 더하는 연산'을 반복하면 된다."
   ]
  },
  {
   "cell_type": "code",
   "execution_count": 11,
   "id": "2a0c2228",
   "metadata": {},
   "outputs": [
    {
     "name": "stdout",
     "output_type": "stream",
     "text": [
      "5 8 3 \n",
      "2 4 5 4 6\n",
      "46\n"
     ]
    }
   ],
   "source": [
    "#단순하게 푸는 답안 예시\n",
    "\n",
    "#N, M, K를 공백으로 구분하여 입력받기\n",
    "n, m, k = map(int, input().split())\n",
    "#N개의 수를 공백으로 구분하여 입력받기\n",
    "data = list(map(int, input().split()))\n",
    "\n",
    "data.sort() #입력받은 수들 정렬하기\n",
    "first = data[n-1] #가장 큰 수\n",
    "second = data[n-2] #두 번째로 큰 수\n",
    "\n",
    "result = 0\n",
    "\n",
    "while True:\n",
    "    for i in range(k): #가장 큰 수를 K번 더하기\n",
    "        if m == 0: #m이 0이라면 반복문 탈출\n",
    "            break\n",
    "        result += first\n",
    "        m -= 1 #더할 때마다 1씩 빼기\n",
    "    if m == 0: #m이 0이라면 반복문 탈출\n",
    "        break\n",
    "    result += second #두 번째로 큰 수를 한 번 더하기\n",
    "    m -= 1 #더할 때마다 1씩 빼기\n",
    "    \n",
    "print(result) #최종 답안 출력"
   ]
  },
  {
   "cell_type": "markdown",
   "id": "d61adf11",
   "metadata": {},
   "source": [
    "---\n",
    "\n",
    "[6 6 6 5 6 6 6 5] ==> 46\n",
    "\n",
    "반복되는 수열의 길이: (k+1) = 4\n",
    "\n",
    "따라서 M을 (K+1)로 나눈 몫이 수열이 반복되는 횟수가 됨\n",
    "\n",
    "다시 여기에 k를 곱해주면 가장 큰 수가 등장하는 횟수\n",
    "\n",
    "m이 (k+1)로 나누어떨어지지 않는 경우도 고려\n",
    "\n",
    "---\n",
    "\n",
    "int(m/(k+1))*k"
   ]
  },
  {
   "cell_type": "code",
   "execution_count": 14,
   "id": "bfb29aed",
   "metadata": {},
   "outputs": [
    {
     "name": "stdout",
     "output_type": "stream",
     "text": [
      "5 8 3\n",
      "2 4 5 4 6\n",
      "46\n"
     ]
    }
   ],
   "source": [
    "#답안 예시\n",
    "\n",
    "#N, M, K를 공백으로 구분하여 입력받기\n",
    "n, m, k = map(int, input().split())\n",
    "#N개의 수를 공백으로 구분하여 입력받기\n",
    "data = list(map(int, input().split()))\n",
    "\n",
    "data.sort() #입력받은 수들 정렬하기\n",
    "first = data[n-1] #가장 큰 수\n",
    "second = data[n-2] #두 번째로 큰 수\n",
    "\n",
    "#가장 큰 수가 더해지는 횟수 계산\n",
    "count = int(m/(k+1))*k\n",
    "count += m%(k+1)\n",
    "\n",
    "result = 0\n",
    "result += (count) *first #가장 큰 수 더라힉\n",
    "result += (m-count)*second # 두 번째로 큰 수 더하기\n",
    "\n",
    "print(result) #최종 답안 출력"
   ]
  },
  {
   "cell_type": "code",
   "execution_count": null,
   "id": "c18ed4ce",
   "metadata": {},
   "outputs": [],
   "source": []
  }
 ],
 "metadata": {
  "kernelspec": {
   "display_name": "Python 3",
   "language": "python",
   "name": "python3"
  },
  "language_info": {
   "codemirror_mode": {
    "name": "ipython",
    "version": 3
   },
   "file_extension": ".py",
   "mimetype": "text/x-python",
   "name": "python",
   "nbconvert_exporter": "python",
   "pygments_lexer": "ipython3",
   "version": "3.8.8"
  }
 },
 "nbformat": 4,
 "nbformat_minor": 5
}
