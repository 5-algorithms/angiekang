{
 "cells": [
  {
   "cell_type": "markdown",
   "id": "8daf16c1",
   "metadata": {},
   "source": [
    "### 입력 예시\n",
    "```\n",
    "5\n",
    "8 3 7 9 2\n",
    "3\n",
    "5 7 9\n",
    "```\n",
    "\n",
    "### 출력 예시\n",
    "no yes yes"
   ]
  },
  {
   "cell_type": "code",
   "execution_count": 8,
   "id": "0ed0885d",
   "metadata": {},
   "outputs": [
    {
     "name": "stdout",
     "output_type": "stream",
     "text": [
      "5\n",
      "8 3 7 9 2\n",
      "3\n",
      "5 7 9\n",
      "['no', 'yes', 'yes']\n"
     ]
    }
   ],
   "source": [
    "n = int(input())\n",
    "bupum = list(map(int, input().split()))\n",
    "m = int(input())\n",
    "jumun = list(map(int, input().split()))\n",
    "yesornot = [\"no\" for i in range(m)]\n",
    "\n",
    "for i in range(m):\n",
    "    for b in bupum:\n",
    "        if jumun[i] == b:\n",
    "            yesornot[i] = 'yes'\n",
    "            \n",
    "print(yesornot)"
   ]
  },
  {
   "cell_type": "markdown",
   "id": "53452318",
   "metadata": {},
   "source": [
    "# 정답 (이진 탐색)"
   ]
  },
  {
   "cell_type": "code",
   "execution_count": 9,
   "id": "e7c3f660",
   "metadata": {},
   "outputs": [
    {
     "name": "stdout",
     "output_type": "stream",
     "text": [
      "5\n",
      "8 3 7 9 2\n",
      "3\n",
      "5 7 9\n",
      "no yes yes "
     ]
    }
   ],
   "source": [
    "# 이진 탐색 소스코드 구현(반복문)\n",
    "def binary_search(array, target, start, end):\n",
    "    while start <= end:\n",
    "        mid = (start + end)//2\n",
    "        if array[mid] == target:\n",
    "            return mid\n",
    "        elif array[mid] > target:\n",
    "            end = mid - 1\n",
    "        else:\n",
    "            start = mid + 1\n",
    "    return None\n",
    "\n",
    "# 입력\n",
    "n = int(input())\n",
    "array = list(map(int, input().split()))\n",
    "array.sort()\n",
    "m = int(input())\n",
    "x = list(map(int, input().split()))\n",
    "\n",
    "#확인\n",
    "for i in x:\n",
    "    result = binary_search(array, i, 0, n-1)\n",
    "    if result != None:\n",
    "        print('yes', end = ' ')\n",
    "    else:\n",
    "        print('no', end = ' ')"
   ]
  },
  {
   "cell_type": "markdown",
   "id": "ff8fc63c",
   "metadata": {},
   "source": [
    "# 정답 (계수 정렬)"
   ]
  },
  {
   "cell_type": "code",
   "execution_count": 10,
   "id": "b72f01ca",
   "metadata": {},
   "outputs": [
    {
     "name": "stdout",
     "output_type": "stream",
     "text": [
      "5\n",
      "8 3 7 9 2\n",
      "3\n",
      "5 7 9\n",
      "no yes yes "
     ]
    }
   ],
   "source": [
    "n = int(input())\n",
    "array = [0]* 1000001\n",
    "\n",
    "#가게에 있는 전체 부품 번호를 입력받아서 기록\n",
    "for i in input().split():\n",
    "    array[int(i)] = 1\n",
    "    \n",
    "m = int(input())\n",
    "x = list(map(int, input().split()))\n",
    "\n",
    "# 확인\n",
    "for i in x:\n",
    "    if array[i] == 1:\n",
    "        print('yes', end = ' ')\n",
    "    else:\n",
    "        print('no', end = ' ')"
   ]
  },
  {
   "cell_type": "markdown",
   "id": "95e1d9fb",
   "metadata": {},
   "source": [
    "# 정답 (집합 자료형)"
   ]
  },
  {
   "cell_type": "code",
   "execution_count": 11,
   "id": "f32b79ca",
   "metadata": {},
   "outputs": [
    {
     "name": "stdout",
     "output_type": "stream",
     "text": [
      "5\n",
      "8 3 7 9 2\n",
      "3\n",
      "5 7 9\n",
      "no yes yes "
     ]
    }
   ],
   "source": [
    "n = int(input())\n",
    "array = set(map(int, input().split()))\n",
    "\n",
    "m = int(input())\n",
    "x = list(map(int, input().split()))\n",
    "\n",
    "for i in x:\n",
    "    if i in array:\n",
    "        print('yes', end = ' ')\n",
    "    else:\n",
    "        print('no', end = ' ')"
   ]
  },
  {
   "cell_type": "code",
   "execution_count": null,
   "id": "84cdd1c6",
   "metadata": {},
   "outputs": [],
   "source": []
  }
 ],
 "metadata": {
  "kernelspec": {
   "display_name": "Python 3",
   "language": "python",
   "name": "python3"
  },
  "language_info": {
   "codemirror_mode": {
    "name": "ipython",
    "version": 3
   },
   "file_extension": ".py",
   "mimetype": "text/x-python",
   "name": "python",
   "nbconvert_exporter": "python",
   "pygments_lexer": "ipython3",
   "version": "3.8.8"
  }
 },
 "nbformat": 4,
 "nbformat_minor": 5
}
