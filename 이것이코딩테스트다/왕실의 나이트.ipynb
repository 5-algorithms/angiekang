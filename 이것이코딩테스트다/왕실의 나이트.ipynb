{
 "cells": [
  {
   "cell_type": "markdown",
   "id": "85432e88",
   "metadata": {},
   "source": [
    "행복 왕국의 왕실 정원은 체스판과 같은 8 X 8 좌표 평면이다. 왕실 정원의 특정한 한 칸에 나이트가 서 있다. 나이트는 매우 충성스러운 신하로서 매일 무술을 연마한다.  \n",
    "나이트는 말을 타고 있기 때문에 이동을 할 때는 L자 형태로만 이동할 수 있으며 정원 밖으로는 나갈 수 없다. 나이트는 특정한 위치에서 다음과 같은 2가지 경우로 이동할 수 있다.  \n",
    "1. 수평으로 두 칸 이동한 뒤에 수직으로 한 칸 이동하기\n",
    "2. 수직으로 두 칸 이동한 뒤에 수평으로 한 칸 이동하기\n",
    "\n",
    "이처럼 8 x 8 좌표 평면상에서 나이트의 위치가 주어졌을 때 나이트가 이동할 수 있는 경우의 수를 출력하는 프로그램을 작성하시오. 이 떄 왕실의 정원에서 행 위치를 표현할 때는 1부터 8로 표현하며, 열 위치를 표현할 때는 a부터 h로 표현한다."
   ]
  },
  {
   "cell_type": "markdown",
   "id": "75a59469",
   "metadata": {},
   "source": [
    "### 입력 조건\n",
    "- 첫째 줄에 8 x 8 좌표 평면상에서 현재 나이트가 위치한 곳의 좌표를 나타내는 두 문자로 구성된 문자열이 입력된다. 입력 문자는 a1처럼 열과 행으로 이뤄진다.\n",
    "\n",
    "### 출력 조건\n",
    "- 첫째 줄에 나이트가 이동할 수 있는 경우의 수를 출력하시오.\n",
    "\n",
    "### 입력 예시1\n",
    "a1\n",
    "\n",
    "### 출력 예시1\n",
    "2\n",
    "\n",
    "### 입력 예시2\n",
    "c2\n",
    "\n",
    "### 출력 예시2\n",
    "6"
   ]
  },
  {
   "cell_type": "markdown",
   "id": "0ff04a65",
   "metadata": {},
   "source": [
    "## trial"
   ]
  },
  {
   "cell_type": "code",
   "execution_count": 33,
   "id": "502923db",
   "metadata": {},
   "outputs": [
    {
     "name": "stdout",
     "output_type": "stream",
     "text": [
      "c2\n",
      "6\n"
     ]
    }
   ],
   "source": [
    "# 입력 받기\n",
    "location = input()\n",
    "\n",
    "# x랑 y 분리\n",
    "x = location[0]\n",
    "y = location[1]\n",
    "\n",
    "# x를 숫자형으로 변환\n",
    "x = {'a' : 1, 'b': 2, 'c' : 3, 'd' : 4, 'e' : 5, 'f' : 6, 'g' : 7, 'h' : 8}.get(x)\n",
    "y = int(y)\n",
    "\n",
    "count = 0\n",
    "\n",
    "# 이동할 수 있는 경우의 수 \n",
    "x_move = [2,2,-2,-2,1,1,-1,-1]\n",
    "y_move = [1,-1,1,-1,2,-2,2,-2]\n",
    "\n",
    "for i in range(8):\n",
    "    x_loc = x_move[i] + x \n",
    "    y_loc = y_move[i] + y\n",
    "    if ( 0 < x_loc and x_loc <= 8 and 0 < y_loc and y_loc <= 8):\n",
    "        count+=1\n",
    "        \n",
    "print(count)"
   ]
  },
  {
   "cell_type": "markdown",
   "id": "4a5e8765",
   "metadata": {},
   "source": [
    "## 정답"
   ]
  },
  {
   "cell_type": "code",
   "execution_count": 36,
   "id": "22bc3382",
   "metadata": {},
   "outputs": [
    {
     "name": "stdout",
     "output_type": "stream",
     "text": [
      "a1\n",
      "2\n"
     ]
    }
   ],
   "source": [
    "# 현재 나이트의 위치 입력받기\n",
    "input_data = input()\n",
    "row = int(input_data[1])\n",
    "column = int(ord(input_data[0]) - int(ord('a')) + 1)\n",
    "\n",
    "# 나이트가 이동할 수 있는 8가지 방법 정리\n",
    "steps = [(-2,-1),(-1,-2),(1,-2),(2,-1),(2,1),(1,2),(-1,2),(-2,1)]\n",
    "\n",
    "# 8가지 방향에 대하여 각 위치로 이동이 가능한지 확인\n",
    "result = 0\n",
    "for step in steps:\n",
    "    # 이동하고자 하는 위치 확인\n",
    "    next_row = row + step[0]\n",
    "    next_column = column + step[1]\n",
    "    # 해당 위치로 이동이 가능하다면 카운트 증가\n",
    "    if next_row >= 1 and next_row <=8 and next_column >=1 and next_column <= 8:\n",
    "        result += 1\n",
    "\n",
    "print(result)"
   ]
  },
  {
   "cell_type": "code",
   "execution_count": null,
   "id": "332b3327",
   "metadata": {},
   "outputs": [],
   "source": []
  }
 ],
 "metadata": {
  "kernelspec": {
   "display_name": "Python 3",
   "language": "python",
   "name": "python3"
  },
  "language_info": {
   "codemirror_mode": {
    "name": "ipython",
    "version": 3
   },
   "file_extension": ".py",
   "mimetype": "text/x-python",
   "name": "python",
   "nbconvert_exporter": "python",
   "pygments_lexer": "ipython3",
   "version": "3.8.8"
  }
 },
 "nbformat": 4,
 "nbformat_minor": 5
}
