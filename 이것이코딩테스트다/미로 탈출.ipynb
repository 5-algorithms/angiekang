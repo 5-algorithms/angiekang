{
 "cells": [
  {
   "cell_type": "markdown",
   "metadata": {},
   "source": [
    "동빈이는 n*m크기의 직사각형 형태의 미로에 갇혀 있다. 미로에는 여러 마리의 괴물이 있어 이를 피해 탈출해야 한다. 동빈이의 위치는 (1,1)이고 미로의 출구는 (n,m)의 위치에 존재하며 한 번에 한 칸씩 이동할 수 있다. 이때 괴물이 있는 부분은 0으로, 괴물이 없는 부분은 1로 표시되어 있다. 미로는 반드시 탈출할 수 있는 형태로 제시된다. 이때 동빈이가 탈출하기 위해 움직여야 하는 최소 칸의 개수를 구하시오, 칸을 셀 때는 시작 칸과 마지막 칸을 모두 포함해서 계산한다."
   ]
  },
  {
   "cell_type": "markdown",
   "metadata": {},
   "source": [
    "### 입력 조건\n",
    "- 첫째 줄에 두 정수 n,m(4<=n, m<=200)이 주어집니다. 다음 n개의 줄에는 각각 m개의 정수(0또는 1)로 미로의 정보가 주어진다. 각각의 수들은 공백 없이 붙어서 입력으로 제시된다. 또한 시작 칸과 마지막 칸은 항상 1이다.\n",
    "### 출력 조건\n",
    "- 첫째 줄에 최소 이동 칸의 개수를 출력한다.\n",
    "### 입력 예시\n",
    "```\n",
    "5 6\n",
    "101010\n",
    "111111\n",
    "000001\n",
    "111111\n",
    "111111\n",
    "```\n",
    "### 출력 예시\n",
    "10"
   ]
  },
  {
   "cell_type": "code",
   "execution_count": 1,
   "metadata": {},
   "outputs": [],
   "source": [
    "n, m = map(int, input().split())\n",
    "graph = []\n",
    "for _ in range(n):\n",
    "    graph.append(list(map(int, input())))"
   ]
  },
  {
   "cell_type": "code",
   "execution_count": 2,
   "metadata": {},
   "outputs": [
    {
     "data": {
      "text/plain": [
       "[[1, 0, 1, 0, 1, 0],\n",
       " [1, 1, 1, 1, 1, 1],\n",
       " [0, 0, 0, 0, 0, 1],\n",
       " [1, 1, 1, 1, 1, 1],\n",
       " [1, 1, 1, 1, 1, 1]]"
      ]
     },
     "execution_count": 2,
     "metadata": {},
     "output_type": "execute_result"
    }
   ],
   "source": [
    "graph"
   ]
  },
  {
   "cell_type": "code",
   "execution_count": 3,
   "metadata": {},
   "outputs": [],
   "source": [
    "# 이동할 네 방향 정의 (상, 하, 좌, 우)\n",
    "dx = [-1, 1, 0, 0]\n",
    "dy = [0, 0, -1, 1]"
   ]
  },
  {
   "cell_type": "code",
   "execution_count": 8,
   "metadata": {},
   "outputs": [],
   "source": [
    "from collections import deque\n",
    "\n",
    "# BFS\n",
    "def bfs(x, y):\n",
    "    # queue 구현을 위해 deque 라이브러리 사용\n",
    "    queue = deque()\n",
    "    queue.append((x,y))\n",
    "    print(queue)\n",
    "\n",
    "    # 큐가 빌 때까지 반복\n",
    "    while queue:\n",
    "        x, y = queue.popleft()\n",
    "        # 현재 위치에서 네 방향으로의 위치 확인\n",
    "        for i in range(4):\n",
    "            nx = x + dx[i]\n",
    "            ny = y + dy[i]\n",
    "            print('nx: ' + str(nx) + '\\t ny: '+ str(ny))\n",
    "            # 미로 찾기 공간을 벗어난 경우 무시\n",
    "            if nx < 0 or ny < 0 or nx >= n or ny >= m:\n",
    "                print(\"공간 넘어감\")\n",
    "                continue\n",
    "            # 벽인 경우 무시\n",
    "            if graph[nx][ny]==0:\n",
    "                print(\"벽\")\n",
    "                continue\n",
    "            # 해당 노드를 처음 방문하는 경우에만 최단 거리 기록\n",
    "            if graph[nx][ny] == 1:\n",
    "                graph[nx][ny] = graph[x][y] + 1\n",
    "                print(\"첫 방문: \"+str(graph[nx][ny]))\n",
    "                queue.append((nx, ny))\n",
    "    # 가장 오른쪽 아래까지의 최단 거리 반환\n",
    "    return graph[n-1][m-1]\n"
   ]
  },
  {
   "cell_type": "code",
   "execution_count": 9,
   "metadata": {},
   "outputs": [
    {
     "name": "stdout",
     "output_type": "stream",
     "text": [
      "deque([(0, 0)])\n",
      "nx: -1\t ny: 0\n",
      "공간 넘어감\n",
      "nx: 1\t ny: 0\n",
      "첫 방문: 2\n",
      "nx: 0\t ny: -1\n",
      "공간 넘어감\n",
      "nx: 0\t ny: 1\n",
      "벽\n",
      "nx: 0\t ny: 0\n",
      "첫 방문: 3\n",
      "nx: 2\t ny: 0\n",
      "벽\n",
      "nx: 1\t ny: -1\n",
      "공간 넘어감\n",
      "nx: 1\t ny: 1\n",
      "첫 방문: 3\n",
      "nx: -1\t ny: 0\n",
      "공간 넘어감\n",
      "nx: 1\t ny: 0\n",
      "nx: 0\t ny: -1\n",
      "공간 넘어감\n",
      "nx: 0\t ny: 1\n",
      "벽\n",
      "nx: 0\t ny: 1\n",
      "벽\n",
      "nx: 2\t ny: 1\n",
      "벽\n",
      "nx: 1\t ny: 0\n",
      "nx: 1\t ny: 2\n",
      "첫 방문: 4\n",
      "nx: 0\t ny: 2\n",
      "첫 방문: 5\n",
      "nx: 2\t ny: 2\n",
      "벽\n",
      "nx: 1\t ny: 1\n",
      "nx: 1\t ny: 3\n",
      "첫 방문: 5\n",
      "nx: -1\t ny: 2\n",
      "공간 넘어감\n",
      "nx: 1\t ny: 2\n",
      "nx: 0\t ny: 1\n",
      "벽\n",
      "nx: 0\t ny: 3\n",
      "벽\n",
      "nx: 0\t ny: 3\n",
      "벽\n",
      "nx: 2\t ny: 3\n",
      "벽\n",
      "nx: 1\t ny: 2\n",
      "nx: 1\t ny: 4\n",
      "첫 방문: 6\n",
      "nx: 0\t ny: 4\n",
      "첫 방문: 7\n",
      "nx: 2\t ny: 4\n",
      "벽\n",
      "nx: 1\t ny: 3\n",
      "nx: 1\t ny: 5\n",
      "첫 방문: 7\n",
      "nx: -1\t ny: 4\n",
      "공간 넘어감\n",
      "nx: 1\t ny: 4\n",
      "nx: 0\t ny: 3\n",
      "벽\n",
      "nx: 0\t ny: 5\n",
      "벽\n",
      "nx: 0\t ny: 5\n",
      "벽\n",
      "nx: 2\t ny: 5\n",
      "첫 방문: 8\n",
      "nx: 1\t ny: 4\n",
      "nx: 1\t ny: 6\n",
      "공간 넘어감\n",
      "nx: 1\t ny: 5\n",
      "nx: 3\t ny: 5\n",
      "첫 방문: 9\n",
      "nx: 2\t ny: 4\n",
      "벽\n",
      "nx: 2\t ny: 6\n",
      "공간 넘어감\n",
      "nx: 2\t ny: 5\n",
      "nx: 4\t ny: 5\n",
      "첫 방문: 10\n",
      "nx: 3\t ny: 4\n",
      "첫 방문: 10\n",
      "nx: 3\t ny: 6\n",
      "공간 넘어감\n",
      "nx: 3\t ny: 5\n",
      "nx: 5\t ny: 5\n",
      "공간 넘어감\n",
      "nx: 4\t ny: 4\n",
      "첫 방문: 11\n",
      "nx: 4\t ny: 6\n",
      "공간 넘어감\n",
      "nx: 2\t ny: 4\n",
      "벽\n",
      "nx: 4\t ny: 4\n",
      "nx: 3\t ny: 3\n",
      "첫 방문: 11\n",
      "nx: 3\t ny: 5\n",
      "nx: 3\t ny: 4\n",
      "nx: 5\t ny: 4\n",
      "공간 넘어감\n",
      "nx: 4\t ny: 3\n",
      "첫 방문: 12\n",
      "nx: 4\t ny: 5\n",
      "nx: 2\t ny: 3\n",
      "벽\n",
      "nx: 4\t ny: 3\n",
      "nx: 3\t ny: 2\n",
      "첫 방문: 12\n",
      "nx: 3\t ny: 4\n",
      "nx: 3\t ny: 3\n",
      "nx: 5\t ny: 3\n",
      "공간 넘어감\n",
      "nx: 4\t ny: 2\n",
      "첫 방문: 13\n",
      "nx: 4\t ny: 4\n",
      "nx: 2\t ny: 2\n",
      "벽\n",
      "nx: 4\t ny: 2\n",
      "nx: 3\t ny: 1\n",
      "첫 방문: 13\n",
      "nx: 3\t ny: 3\n",
      "nx: 3\t ny: 2\n",
      "nx: 5\t ny: 2\n",
      "공간 넘어감\n",
      "nx: 4\t ny: 1\n",
      "첫 방문: 14\n",
      "nx: 4\t ny: 3\n",
      "nx: 2\t ny: 1\n",
      "벽\n",
      "nx: 4\t ny: 1\n",
      "nx: 3\t ny: 0\n",
      "첫 방문: 14\n",
      "nx: 3\t ny: 2\n",
      "nx: 3\t ny: 1\n",
      "nx: 5\t ny: 1\n",
      "공간 넘어감\n",
      "nx: 4\t ny: 0\n",
      "첫 방문: 15\n",
      "nx: 4\t ny: 2\n",
      "nx: 2\t ny: 0\n",
      "벽\n",
      "nx: 4\t ny: 0\n",
      "nx: 3\t ny: -1\n",
      "공간 넘어감\n",
      "nx: 3\t ny: 1\n",
      "nx: 3\t ny: 0\n",
      "nx: 5\t ny: 0\n",
      "공간 넘어감\n",
      "nx: 4\t ny: -1\n",
      "공간 넘어감\n",
      "nx: 4\t ny: 1\n",
      "10\n"
     ]
    }
   ],
   "source": [
    "print(bfs(0,0))"
   ]
  },
  {
   "cell_type": "code",
   "execution_count": 11,
   "metadata": {},
   "outputs": [
    {
     "data": {
      "text/plain": [
       "[[3, 0, 5, 0, 7, 0],\n",
       " [2, 3, 4, 5, 6, 7],\n",
       " [0, 0, 0, 0, 0, 8],\n",
       " [14, 13, 12, 11, 10, 9],\n",
       " [15, 14, 13, 12, 11, 10]]"
      ]
     },
     "execution_count": 11,
     "metadata": {},
     "output_type": "execute_result"
    }
   ],
   "source": [
    "graph"
   ]
  },
  {
   "cell_type": "code",
   "execution_count": null,
   "metadata": {},
   "outputs": [],
   "source": []
  }
 ],
 "metadata": {
  "interpreter": {
   "hash": "d8a8dc86ece01e6093ff7129532172234993ca3453db737f44cf4eb45dc7efea"
  },
  "kernelspec": {
   "display_name": "Python 3.9.7 64-bit",
   "language": "python",
   "name": "python3"
  },
  "language_info": {
   "codemirror_mode": {
    "name": "ipython",
    "version": 3
   },
   "file_extension": ".py",
   "mimetype": "text/x-python",
   "name": "python",
   "nbconvert_exporter": "python",
   "pygments_lexer": "ipython3",
   "version": "3.9.7"
  },
  "orig_nbformat": 4
 },
 "nbformat": 4,
 "nbformat_minor": 2
}
