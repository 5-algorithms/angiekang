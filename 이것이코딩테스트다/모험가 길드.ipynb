{
 "cells": [
  {
   "cell_type": "markdown",
   "id": "d9cf2b33",
   "metadata": {},
   "source": [
    "한 마을에 모험가가 N명 있습니다. 모험가 길드에서는 N명의 모험가를 대상으로 '공포도'를 측정했는데, '공포도'가 높은 모험가는 쉽게 공포를 느껴 위험 상황에서 제대로 대처할 능력이 떨어집니다.  \n",
    "모험가 길드장인 동빈이는 모험가 그룹을 안전하게 구성하고자 공포도가 X인 모험가는 반드시 X명 이상으로 구성한 모험가 그룹에 참여해야 여행을 떠날 수 있도록 규정했습니다. 동빈이는 최대 몇개의 모험가 그룹을 만들 수 있는지 궁금합니다\n",
    "\n",
    "동빈이를 위해 N명의 모험가에 대한 정보가 주어졌을 때, 여행을 떠날 수 있는 그룹 수의 최댓값을 구하는 프로그램을 작성하세요.\n",
    "\n",
    "예를 들어 N=5 이고, 각 모험가의 공포도가 다음과 같다고 가정합시다.\n",
    "\n",
    "2 3 1 2 2\n",
    "\n",
    "이때, 그룹 1에 공포도가 1,2,3인 모험가를 한 명씩 넣고, 그룹 2에 공포도가 2인 남은 두명을 넣게 되면, 총 2개의 그룹을 만들 수 있습니다.  \n",
    "또한 몇 명의 모험가는 마을에 그대로 남아 있어도 되기 때문에, 모든 모험가를 특정한 그룹에 넣을 필요는 없습니다"
   ]
  },
  {
   "cell_type": "markdown",
   "id": "8853b5ee",
   "metadata": {},
   "source": [
    "### 입력 조건\n",
    "- 첫째 줄에 모험가의 수 N이 주어집니다.(1<= N <= 100,000)\n",
    "- 둘째 줄에 각 모험가의 공포도의 값을 N이하의 자연수로 주어지며, 각 자연수는 공백으로 구분합니다.\n",
    "\n",
    "### 출력 조건\n",
    "- 여행을 떠날 수 있는 그룹 수의 최댓값을 출력합니다.\n",
    "\n",
    "### 입력 예시\n",
    "5   \n",
    "\n",
    "2 3 1 2 2\n",
    "\n",
    "### 출력 예시\n",
    "2"
   ]
  },
  {
   "cell_type": "markdown",
   "id": "49c0b641",
   "metadata": {},
   "source": [
    "# Trial1_211101"
   ]
  },
  {
   "cell_type": "code",
   "execution_count": null,
   "id": "57d45ef0",
   "metadata": {},
   "outputs": [],
   "source": [
    "n = map(int, input().split())\n",
    "fear = list(map(int, input().split()))\n",
    "\n",
    "fear.sort()\n"
   ]
  },
  {
   "cell_type": "code",
   "execution_count": 5,
   "id": "a2335484",
   "metadata": {},
   "outputs": [
    {
     "data": {
      "text/plain": [
       "[4, 3, 2, 2, 1, 1]"
      ]
     },
     "execution_count": 5,
     "metadata": {},
     "output_type": "execute_result"
    }
   ],
   "source": [
    "a = [1,2,3,4,2,1]\n",
    "a.sort(reverse=True)\n",
    "a"
   ]
  },
  {
   "cell_type": "markdown",
   "id": "c94c54cb",
   "metadata": {},
   "source": [
    "## 정답"
   ]
  },
  {
   "cell_type": "code",
   "execution_count": 6,
   "id": "63c40a87",
   "metadata": {},
   "outputs": [
    {
     "name": "stdout",
     "output_type": "stream",
     "text": [
      "5\n",
      "2 3 1 2 2\n",
      "2\n"
     ]
    }
   ],
   "source": [
    "n = int(input())\n",
    "data = list(map(int, input().split()))\n",
    "data.sort()\n",
    "\n",
    "result = 0 # 총 그룹의 수\n",
    "count = 0 # 현재 그룹에 포함된 모험가의 수\n",
    "\n",
    "for i in data: # 공포도를 낮은 것부터 하나씩 확인하며\n",
    "    count += 1 # 현재 그룹에 해당 모험가를 포함시키기\n",
    "    if count >= i: # 현재 그룹에 포함된 모험가의 수가 현재의 공포도 이상이라면, 그룹 결성\n",
    "        result += 1 # 총 그룹의 수 증가시키기\n",
    "        count = 0 # 현재 그룹에 포함된 모험가의 수 초기화\n",
    "        \n",
    "print(result) # 총 그룹의 수 출력"
   ]
  },
  {
   "cell_type": "code",
   "execution_count": null,
   "id": "db9e5c87",
   "metadata": {},
   "outputs": [],
   "source": []
  }
 ],
 "metadata": {
  "kernelspec": {
   "display_name": "Python 3",
   "language": "python",
   "name": "python3"
  },
  "language_info": {
   "codemirror_mode": {
    "name": "ipython",
    "version": 3
   },
   "file_extension": ".py",
   "mimetype": "text/x-python",
   "name": "python",
   "nbconvert_exporter": "python",
   "pygments_lexer": "ipython3",
   "version": "3.8.8"
  }
 },
 "nbformat": 4,
 "nbformat_minor": 5
}
