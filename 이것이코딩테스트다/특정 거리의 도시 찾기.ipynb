{
 "cells": [
  {
   "cell_type": "markdown",
   "metadata": {},
   "source": [
    "어떤 나라에는 1~N번까지의 도시와 M개의 단방향 도로가 존재합니다. 모든 도로의 거리는 1입니다. 이때 특정한 도시 X로부터 출발하여 도달할 수 있는 모든 도시 중에서, 최단 거리가 정확히 K인 모든 도시의 번호를 출력하는 프로그램을 작성하세요. 또한 출발 도시 X에서 출발 도시 X로 가는 최단 거리는 항상 0이라고 가정합니다.   "
   ]
  },
  {
   "cell_type": "markdown",
   "metadata": {},
   "source": [
    "모든 도로의 거리는 1이라는 조건 덕분에 너비 우선 탐색을 이용하여 간단히 해결."
   ]
  },
  {
   "cell_type": "code",
   "execution_count": 1,
   "metadata": {},
   "outputs": [
    {
     "name": "stdout",
     "output_type": "stream",
     "text": [
      "4\n"
     ]
    }
   ],
   "source": [
    "from collections import deque\n",
    "\n",
    "n, m, k, x = map(int, input().split())\n",
    "graph = [[] for _ in range(n+1)]\n",
    "\n",
    "# 모든 도로 정보 입력받기\n",
    "for i in range(m):\n",
    "    a, b = map(int, input().split())\n",
    "    graph[a].append(b)\n",
    "\n",
    "# 모든 도시에 대한 최단 거리 초기화\n",
    "distance = [-1] * (n+1)\n",
    "distance[x] = 0 # 출발 도시까지의 거리는 0으로 설정\n",
    "\n",
    "# 너비 우선 탐색(BFS) 수행\n",
    "q = deque([x])\n",
    "while q:\n",
    "    now = q.popleft()\n",
    "    # 현재 도시에서 이동할 수 있는 모든 도시를 확인\n",
    "    for next_node in graph[now]:\n",
    "        # 아직 방문하지 않은 도시라면\n",
    "        if distance[next_node] == -1:\n",
    "            # 최단 거리 갱신\n",
    "            distance[next_node] = distance[now] + 1\n",
    "            q.append(next_node)\n",
    "\n",
    "# 최단 거리가 K인 모든 도시의 번호를 오름차순으로 출력\n",
    "check = False\n",
    "for i in range(1, n+1):\n",
    "    if distance[i] == k:\n",
    "        print(i)\n",
    "        check = True\n",
    "\n",
    "# 만약 최단 거리가 K인 도시가 없다면, -1 출력\n",
    "if check == False:\n",
    "    print(-1)\n",
    "\n"
   ]
  },
  {
   "cell_type": "code",
   "execution_count": null,
   "metadata": {},
   "outputs": [],
   "source": []
  }
 ],
 "metadata": {
  "interpreter": {
   "hash": "f7fe963237f798d90b87ba1d3665dbd53f59066b18d410facd0c3e5b72115067"
  },
  "kernelspec": {
   "display_name": "Python 3.9.7 64-bit",
   "language": "python",
   "name": "python3"
  },
  "language_info": {
   "codemirror_mode": {
    "name": "ipython",
    "version": 3
   },
   "file_extension": ".py",
   "mimetype": "text/x-python",
   "name": "python",
   "nbconvert_exporter": "python",
   "pygments_lexer": "ipython3",
   "version": "3.9.7"
  },
  "orig_nbformat": 4
 },
 "nbformat": 4,
 "nbformat_minor": 2
}
