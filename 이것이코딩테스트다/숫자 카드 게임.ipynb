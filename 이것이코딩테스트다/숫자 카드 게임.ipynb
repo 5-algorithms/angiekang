{
 "cells": [
  {
   "cell_type": "markdown",
   "id": "f4e27e52",
   "metadata": {},
   "source": [
    "숫자 카드 게임은 여러 개의 숫자 카드 중에서 가장 높은 숫자가 쓰인 카드 한 장을 뽑는 게임이다.\n",
    "1. 숫자가 쓰인 카드들이 N x M 형태로 놓여 있다. 이때 N은 행의 개수를 의미하며, M은 열의 개수를 의미한다.\n",
    "2. 먼저 뽑고자 하는 카드가 포함되어 있는 행을 선택한다.\n",
    "3. 그다음 선택된 행에 포함된 카드들 중 가장 숫자가 낮은 카드를 뽑아야 한다.\n",
    "4. 따라서 처음에 카드를 골라낼 행을 선택할 때, 이후에 해당 행에서 가장 숫자가 낮은 카드를 뽑을 것을 고려하여 최종적으로 가장 높은 숫자의 카드를 뽑을 수 있도록 전략을 세워야 한다."
   ]
  },
  {
   "cell_type": "markdown",
   "id": "fcfe98e8",
   "metadata": {},
   "source": [
    "### 입력 조건\n",
    "1. 첫째 줄에 숫자 카드들이 놓인 행의 개수 N과 열의 개수 M이 공백을 기준으로 하여 각각 자연수로 주어진다.(1<= N, M <= 100)\n",
    "2. 둘째 줄부터 N개의 줄에 걸쳐 각 카드에 적힌 숫자가 주어진다. 각 숫자는 1 이상 10,000 이하의 자연수이다.\n",
    "\n",
    "### 출력 조건\n",
    "첫째 줄에 게임의 룰에 맞게 선택한 카드에 적힌 숫자를 출력한다.\n",
    "\n",
    "### 입력 예시1\n",
    "3 3\n",
    "\n",
    "3 1 2\n",
    "\n",
    "4 1 4 \n",
    "\n",
    "2 2 2\n",
    "\n",
    "### 출력 예시1\n",
    "2\n",
    "\n",
    "### 입력 예시2\n",
    "2 4\n",
    "\n",
    "7 3 1 8\n",
    "\n",
    "3 3 3 4\n",
    "\n",
    "### 출력 예시2\n",
    "3"
   ]
  },
  {
   "cell_type": "markdown",
   "id": "6892f518",
   "metadata": {},
   "source": [
    "## trial"
   ]
  },
  {
   "cell_type": "code",
   "execution_count": 12,
   "id": "288bdae6",
   "metadata": {},
   "outputs": [
    {
     "name": "stdout",
     "output_type": "stream",
     "text": [
      "3 3 \n",
      "3 1 2 \n",
      "4 1 4\n",
      "2 2 2\n",
      "2\n"
     ]
    }
   ],
   "source": [
    "#N, M \n",
    "n, m = map(int, input().split())\n",
    "\n",
    "#cards = [[0 for col in range(n)] for row in range(m)]\n",
    "save = 0\n",
    "\n",
    "# 카드 입력받기\n",
    "for i in range(n):\n",
    "        #한줄 받아옴\n",
    "        cards = list(map(int, input().split()))\n",
    "        #그 줄에서 가장 작은 값\n",
    "        minval = min(cards)\n",
    "        #가장 작은값이랑 최종 도출값중에 큰거 취하기\n",
    "        save = max(minval, save) \n",
    "        \n",
    "print(save)"
   ]
  },
  {
   "cell_type": "markdown",
   "id": "a746e445",
   "metadata": {},
   "source": [
    "## 정답1: min() 함수를 이용하는 답안 예시"
   ]
  },
  {
   "cell_type": "code",
   "execution_count": 13,
   "id": "3536df51",
   "metadata": {},
   "outputs": [
    {
     "name": "stdout",
     "output_type": "stream",
     "text": [
      "2 4\n",
      "7 3 1 8\n",
      "3 3 3 4\n",
      "3\n"
     ]
    }
   ],
   "source": [
    "# N,M을 공백으로 구분하여 입력받기\n",
    "n, m = map(int, input().split())\n",
    "\n",
    "result = 0\n",
    "# 한 줄씩 입력받아 확인\n",
    "for i in range(n):\n",
    "    data = list(map(int, input().split()))\n",
    "    #현재 줄에서 가장 작은 수 찾기\n",
    "    min_value = min(data)\n",
    "    # 가장 작은 수들 중에서 가장 큰 수 찾기\n",
    "    result = max(result, min_value)\n",
    "    \n",
    "print(result) #최종 답안 출력"
   ]
  },
  {
   "cell_type": "markdown",
   "id": "65090058",
   "metadata": {},
   "source": [
    "## 정답2: 2중 반복문 구조를 이용하는 답안 예시"
   ]
  },
  {
   "cell_type": "code",
   "execution_count": 14,
   "id": "45587508",
   "metadata": {},
   "outputs": [
    {
     "name": "stdout",
     "output_type": "stream",
     "text": [
      "3 3\n",
      "3 1 2\n",
      "4 1 4\n",
      "2 2 2\n",
      "2\n"
     ]
    }
   ],
   "source": [
    "# N,M을 공백으로 구분하여 입력받기\n",
    "n, m = map(int, input().split())\n",
    "\n",
    "result = 0\n",
    "#한 줄씩 입력받아 확인\n",
    "for i in range(n):\n",
    "    data = list(map(int, input().split()))\n",
    "    #현재 줄에서 가장 작은 수 찾기\n",
    "    min_value = 10001\n",
    "    for a in data:\n",
    "        min_value = min(min_value, a)\n",
    "    #가장 작은 수들 중에서 가장 큰 수 찾기\n",
    "    result = max(result, min_value)\n",
    "    \n",
    "print(result) # 최종 답안 출력"
   ]
  },
  {
   "cell_type": "code",
   "execution_count": null,
   "id": "2adc4081",
   "metadata": {},
   "outputs": [],
   "source": []
  }
 ],
 "metadata": {
  "kernelspec": {
   "display_name": "Python 3",
   "language": "python",
   "name": "python3"
  },
  "language_info": {
   "codemirror_mode": {
    "name": "ipython",
    "version": 3
   },
   "file_extension": ".py",
   "mimetype": "text/x-python",
   "name": "python",
   "nbconvert_exporter": "python",
   "pygments_lexer": "ipython3",
   "version": "3.8.8"
  }
 },
 "nbformat": 4,
 "nbformat_minor": 5
}
