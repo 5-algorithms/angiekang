{
 "cells": [
  {
   "cell_type": "code",
   "execution_count": 4,
   "id": "90db640a",
   "metadata": {},
   "outputs": [
    {
     "name": "stdout",
     "output_type": "stream",
     "text": [
      "3\n",
      "15\n",
      "27\n",
      "12\n",
      "27 15 12 "
     ]
    }
   ],
   "source": [
    "n = int(input())\n",
    "\n",
    "array = []\n",
    "for _ in range(n):\n",
    "    array.append(int(input()))\n",
    "    \n",
    "array.sort(reverse=True)\n",
    "\n",
    "for i in range(len(array)):\n",
    "    print(array[i], end = ' ')"
   ]
  },
  {
   "cell_type": "markdown",
   "id": "42ace12d",
   "metadata": {},
   "source": [
    "## 정답"
   ]
  },
  {
   "cell_type": "code",
   "execution_count": 5,
   "id": "fb051498",
   "metadata": {},
   "outputs": [
    {
     "name": "stdout",
     "output_type": "stream",
     "text": [
      "3\n",
      "15\n",
      "27\n",
      "12\n",
      "27 15 12 "
     ]
    }
   ],
   "source": [
    "# n을 입력받기\n",
    "n = int(input())\n",
    "\n",
    "# n개의 정수를 입력받아 리스트에 저장\n",
    "array = []\n",
    "for i in range(n):\n",
    "    array.append(int(input()))\n",
    "    \n",
    "# 파이썬 기본 정렬 라이브러리를 이용하여 정렬 수행\n",
    "array = sorted(array, reverse=True)\n",
    "\n",
    "# 정렬이 수행된 결과를 출력\n",
    "for i in array:\n",
    "    print(i, end = ' ')"
   ]
  },
  {
   "cell_type": "code",
   "execution_count": null,
   "id": "c43520ee",
   "metadata": {},
   "outputs": [],
   "source": []
  }
 ],
 "metadata": {
  "kernelspec": {
   "display_name": "Python 3",
   "language": "python",
   "name": "python3"
  },
  "language_info": {
   "codemirror_mode": {
    "name": "ipython",
    "version": 3
   },
   "file_extension": ".py",
   "mimetype": "text/x-python",
   "name": "python",
   "nbconvert_exporter": "python",
   "pygments_lexer": "ipython3",
   "version": "3.8.8"
  }
 },
 "nbformat": 4,
 "nbformat_minor": 5
}
