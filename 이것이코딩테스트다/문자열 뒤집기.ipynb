{
 "cells": [
  {
   "cell_type": "markdown",
   "id": "43df8249",
   "metadata": {},
   "source": [
    "다솜이는 0과 1로만 이루어진 문자열 S를 가지고 있습니다. 다솜이는 이 문자열 S에 있는 모든 숫자를 전부 같게 만들려고 합니다. 다솜이가 할 수 있는 행동은 S에서 연속된 하나 이상의 숫자를 잡고 모두 뒤집는 것입니다. 뒤집는 것은 1을 0으로, 0을 1로 바꾸는 것을 의미합니다.  \n",
    "문자열 S가 주어졌을 때, 다솜이가 해야 하는 행동의 최소 횟수를 출력하세요."
   ]
  },
  {
   "cell_type": "markdown",
   "id": "e17b64e9",
   "metadata": {},
   "source": [
    "### 입력 조건\n",
    "- 첫째 줄에 0과 1로만 이루어진 문자열 S가 주어집니다. S의 길이는 100만보다 작습니다.\n",
    "### 출력 조건\n",
    "- 첫째 줄에 다솜이가 해야 하는 행동의 최소 횟수를 출력합니다.\n",
    "### 입력 예시\n",
    "0001100\n",
    "### 출력 예시\n",
    "1"
   ]
  },
  {
   "cell_type": "markdown",
   "id": "bf4bd33b",
   "metadata": {},
   "source": [
    "## 1st try: 211103"
   ]
  },
  {
   "cell_type": "code",
   "execution_count": 31,
   "id": "214eaa00",
   "metadata": {},
   "outputs": [
    {
     "name": "stdout",
     "output_type": "stream",
     "text": [
      "0001100\n",
      "1\n"
     ]
    }
   ],
   "source": [
    "s = list(map(int, input()))\n",
    "count = 0\n",
    "\n",
    "# 바뀌는 횟수 얼마인지 세봐\n",
    "for i in range(len(s)-1):\n",
    "    if s[i] != s[i+1]:\n",
    "        count += 1\n",
    "        \n",
    "# 만약 count 횟수가 짝수이면 걍 반 나누기\n",
    "if count%2==0:\n",
    "    count /= 2\n",
    "# 홀수이면 올림\n",
    "else:\n",
    "    count = int(count/2) +1\n",
    "\n",
    "print(int(count))"
   ]
  },
  {
   "cell_type": "markdown",
   "id": "89a70bd0",
   "metadata": {},
   "source": [
    "## 정답"
   ]
  },
  {
   "cell_type": "code",
   "execution_count": 32,
   "id": "73b7b9b3",
   "metadata": {},
   "outputs": [
    {
     "name": "stdout",
     "output_type": "stream",
     "text": [
      "0001100\n",
      "1\n"
     ]
    }
   ],
   "source": [
    "data = input()\n",
    "count0 = 0   # 전부 0으로 바꾸는 경우\n",
    "count1 = 1   # 전부 1로 바꾸는 경우\n",
    "\n",
    "# 첫 번째 원소에 대해서 처리\n",
    "if data[0] == '1':\n",
    "    count0 += 1\n",
    "else:\n",
    "    count1 += 1\n",
    "    \n",
    "# 두 번째 원소부터 모든 원소를 확인하며\n",
    "for i in range(len(data)-1):\n",
    "    if data[i] != data[i+1]:\n",
    "        # 다음 수에서 1로 바뀌는 경우\n",
    "        if data[i+1] == '1':\n",
    "            count0 += 1\n",
    "        # 다음 수에서 0으로 바뀌는 경우\n",
    "        else:\n",
    "            count1 += 1\n",
    "            \n",
    "print(min(count0, count1))"
   ]
  },
  {
   "cell_type": "code",
   "execution_count": null,
   "id": "27b317f6",
   "metadata": {},
   "outputs": [],
   "source": []
  }
 ],
 "metadata": {
  "kernelspec": {
   "display_name": "Python 3",
   "language": "python",
   "name": "python3"
  },
  "language_info": {
   "codemirror_mode": {
    "name": "ipython",
    "version": 3
   },
   "file_extension": ".py",
   "mimetype": "text/x-python",
   "name": "python",
   "nbconvert_exporter": "python",
   "pygments_lexer": "ipython3",
   "version": "3.8.8"
  }
 },
 "nbformat": 4,
 "nbformat_minor": 5
}
