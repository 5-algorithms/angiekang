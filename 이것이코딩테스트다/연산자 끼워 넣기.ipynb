{
 "cells": [
  {
   "cell_type": "markdown",
   "metadata": {},
   "source": [
    "N개의 수로 이루어진 수열 A_1, ... , A_N이 주어집니다. 또, 수와 수 사이에 끼워 넣을 수 있는 N-1개의 연산자가 주어집니다. 연산자는 덧셈, 뺄셈, 곱셈, 나눗셈으로만 이루어져 있습니다.   \n",
    "우리는 수와 수 사이에 연산자를 하나씩 넣어서, 수식을 하나 만들 수 있는데 이때 주어진 수의 순서를 바꾸면 안됩니다.  \n",
    "예를 들어, 6개의 수로 이루어진 수열이 1, 2, 3, 4, 5, 6이고, 주어진 연산자가 덧셈(+) 2개, 뺼셈 1개, 곱셈 1개, 나눗헴 1개인 경우에는 총 60가지의 식을 만들 수 있습니다. 예를 들어, 다음과 같은 식을 만들 수 있습니다.   \n",
    "...    \n",
    "식의 계산은 연산자 우선순위를 무시하고 앞에서부터 진행해야 합니다. 또, 나눗셈은 정수 나눗셈으로 몫만 취합니다. 음수를 양수로 나눌 때는 C++14의 기준을 따릅니다. 즉, 양수로 바꾼 뒤 몫을 취하고, 그 몫을 음수로 바꾼 것과 같습니다. 이에 따라서 위의 식 4개의 결과를 계산해보면 다음과 같습니다.   \n",
    "...  \n",
    "N개의 수와 N-1개의 연산자가 주어졌을 때, 만들 수 잇는 식의 결과가 최대인 것과 최소인 것을 구하는 프로그램을 작성하세요."
   ]
  },
  {
   "cell_type": "code",
   "execution_count": 1,
   "metadata": {},
   "outputs": [
    {
     "name": "stdout",
     "output_type": "stream",
     "text": [
      "30\n",
      "30\n"
     ]
    }
   ],
   "source": [
    "n = int(input())\n",
    "a = []\n",
    "\n",
    "data = list(map(int, input().split()))\n",
    "\n",
    "plus, minus, mul, div = map(int, input().split())\n",
    "\n",
    "min_value = 1e9\n",
    "max_value = -1e9\n",
    "\n",
    "def dfs(i, now):\n",
    "    global min_value, max_value, plus, minus, mul, div\n",
    "    # 모든 연산자를 다 사용한 경우, 최솟값과 최댓값 업데이트\n",
    "    if i == n:\n",
    "        min_value = min(min_value, now)\n",
    "        max_value = max(max_value, now)\n",
    "    else:\n",
    "        # 각 연산자에 대하여 재귀적으로 수행\n",
    "        if plus > 0:\n",
    "            plus -= 1\n",
    "            dfs(i+1, now+data[i])\n",
    "            plus += 1\n",
    "        if minus > 0:\n",
    "            minus -= 1\n",
    "            dfs(i+1, now-data[i])\n",
    "            minus += 1\n",
    "        if mul > 0:\n",
    "            mul -= 1\n",
    "            dfs(i+1, now*data[i])\n",
    "            mul += 1\n",
    "        if div > 0:\n",
    "            div -= 1\n",
    "            dfs(i+1, int(now/data[i]))\n",
    "            div += 1\n",
    "\n",
    "\n",
    "# DFS 호출\n",
    "dfs(1, data[0])\n",
    "\n",
    "print(max_value)\n",
    "print(min_value)"
   ]
  },
  {
   "cell_type": "markdown",
   "metadata": {},
   "source": [
    "순열로 풀기"
   ]
  },
  {
   "cell_type": "code",
   "execution_count": 2,
   "metadata": {},
   "outputs": [
    {
     "name": "stdout",
     "output_type": "stream",
     "text": [
      "54\n",
      "-24\n"
     ]
    }
   ],
   "source": [
    "from itertools import permutations\n",
    "import sys\n",
    "\n",
    "N = int(input())\n",
    "nums = list(map(int, input().split()))\n",
    "tmp = list(map(int, input().split()))\n",
    "\n",
    "# +, -, *, /\n",
    "op_num = '+' * tmp[0] + '-' * tmp[1] + '*' * tmp[2] + '/' * tmp[3]\n",
    "op = [i for i in op_num]\n",
    "op = permutations(op, N - 1) # 순열\n",
    "op = list(set(op)) # 중복 제거\n",
    "\n",
    "max = -sys.maxsize\n",
    "min = sys.maxsize\n",
    "\n",
    "for i in op:\n",
    "    result = nums[0]\n",
    "    for j in range(N - 1):\n",
    "        if i[j] == '+':\n",
    "            result += nums[j + 1]\n",
    "        elif i[j] == '-':\n",
    "            result -= nums[j + 1]            \n",
    "        elif i[j] == '*':\n",
    "            result *= nums[j + 1]\n",
    "        else: # 나눗셈\n",
    "            if result < 0:\n",
    "                result *= -1\n",
    "                result //= nums[j + 1]\n",
    "                result *= -1\n",
    "            else:\n",
    "                result //= nums[j + 1]\n",
    "    if result >= max:\n",
    "        max = result\n",
    "    if result < min:\n",
    "        min = result\n",
    "\n",
    "print(max)\n",
    "print(min)"
   ]
  }
 ],
 "metadata": {
  "interpreter": {
   "hash": "f7fe963237f798d90b87ba1d3665dbd53f59066b18d410facd0c3e5b72115067"
  },
  "kernelspec": {
   "display_name": "Python 3.9.7 64-bit",
   "language": "python",
   "name": "python3"
  },
  "language_info": {
   "codemirror_mode": {
    "name": "ipython",
    "version": 3
   },
   "file_extension": ".py",
   "mimetype": "text/x-python",
   "name": "python",
   "nbconvert_exporter": "python",
   "pygments_lexer": "ipython3",
   "version": "3.9.7"
  },
  "orig_nbformat": 4
 },
 "nbformat": 4,
 "nbformat_minor": 2
}
