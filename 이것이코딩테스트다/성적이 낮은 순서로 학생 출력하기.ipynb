{
 "cells": [
  {
   "cell_type": "code",
   "execution_count": 31,
   "id": "e1f6e989",
   "metadata": {},
   "outputs": [
    {
     "name": "stdout",
     "output_type": "stream",
     "text": [
      "2\n",
      "홍 95\n",
      "이 77\n",
      "이 홍 "
     ]
    }
   ],
   "source": [
    "n = int(input())\n",
    "\n",
    "student = {}\n",
    "\n",
    "for i in range(n):\n",
    "    name, score = map(str, input().split())\n",
    "    student[int(score)] = name\n",
    "    \n",
    "scores =list(student.keys())\n",
    "scores.sort()\n",
    "\n",
    "for i in scores:\n",
    "    print(student[i], end = ' ')"
   ]
  },
  {
   "cell_type": "markdown",
   "id": "9bebb026",
   "metadata": {},
   "source": [
    "## 정답"
   ]
  },
  {
   "cell_type": "code",
   "execution_count": 34,
   "id": "65d6be11",
   "metadata": {},
   "outputs": [
    {
     "name": "stdout",
     "output_type": "stream",
     "text": [
      "2\n",
      "홍길동 95\n",
      "이순신 77\n",
      "이순신 홍길동 "
     ]
    }
   ],
   "source": [
    "# N을 입력받기\n",
    "n = int(input())\n",
    "\n",
    "# N명의 학생 정보를 입력받아 리스트에 저장\n",
    "array = []\n",
    "for i in range(n):\n",
    "    input_data = input().split()\n",
    "    # 이름은 문자열 그대로, 점수는 정수형으로 변환하여 저장\n",
    "    array.append((input_data[0], int(input_data[1])))\n",
    "    \n",
    "# 키(key)를 이용하여 점수를 기준으로 정렬\n",
    "array = sorted(array, key=lambda student: student[1])\n",
    "\n",
    "# 정렬이 수행된 결과를 출력\n",
    "for student in array:\n",
    "    print(student[0], end = ' ')"
   ]
  }
 ],
 "metadata": {
  "kernelspec": {
   "display_name": "Python 3",
   "language": "python",
   "name": "python3"
  },
  "language_info": {
   "codemirror_mode": {
    "name": "ipython",
    "version": 3
   },
   "file_extension": ".py",
   "mimetype": "text/x-python",
   "name": "python",
   "nbconvert_exporter": "python",
   "pygments_lexer": "ipython3",
   "version": "3.8.8"
  }
 },
 "nbformat": 4,
 "nbformat_minor": 5
}
