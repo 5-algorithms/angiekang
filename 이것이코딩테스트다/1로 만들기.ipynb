{
 "cells": [
  {
   "cell_type": "markdown",
   "metadata": {},
   "source": [
    "정수 X가 주어질 떄 쟁수 X에 사용할 수 있는 연산은 다음과 같이 4가지이다.   \n",
    "a. X가 5로 나누어떨어지면, 5로 나눈다.   \n",
    "b. X가 3으로 나누어떨어지면, 3으로 나눈다.   \n",
    "c. X가 2로 나누어떨어지면, 2로 나눈다.   \n",
    "d. X에서 1을 뺀다.   \n",
    "   \n",
    "정수 X가 주어졌을 때, 연산 4개를 적절히 사용해서 1을 만들려고 한다. 연산을 사용하는 횟수의 최솟값을 출력하시오.   \n",
    "   \n",
    "예를 들어 정수가 26이면 다음과 같이 계산해서 3번의 연산이 최솟값이다.   \n",
    "1. 26-1 = 25 (d)\n",
    "2. 25/5 = 5 (a)\n",
    "3. 5/5 = 1 (a)\n",
    "\n",
    "### 입력 조건\n",
    "- 첫째 줄에 정수 X가 주어진다. (1 <= X <= 30,000)\n",
    "### 출력 조건\n",
    "- 첫째 줄에 연산을 하는 횟수의 최솟값을 출력한다.\n",
    "### 입력 예시\n",
    "26\n",
    "### 출력 예시\n",
    "3"
   ]
  },
  {
   "cell_type": "code",
   "execution_count": 4,
   "metadata": {},
   "outputs": [
    {
     "name": "stdout",
     "output_type": "stream",
     "text": [
      "3\n"
     ]
    }
   ],
   "source": [
    "x = int(input())\n",
    "dp = [0]*(x+1)\n",
    "\n",
    "# 다이나믹 프로그래밍 - 바텀업 방식\n",
    "\n",
    "for i in range(2, x+1):\n",
    "    dp[i] = dp[i-1] + 1\n",
    "    if i%2 == 0:\n",
    "        dp[i] = min(dp[i], dp[i//2]+1)\n",
    "    if i%3 == 0:\n",
    "        dp[i] = min(dp[i], dp[i//3]+1)\n",
    "    if i%5 == 0:\n",
    "        dp[i] = min(dp[i], dp[i//5]+1)\n",
    "\n",
    "print(dp[x])"
   ]
  },
  {
   "cell_type": "code",
   "execution_count": null,
   "metadata": {},
   "outputs": [],
   "source": []
  }
 ],
 "metadata": {
  "interpreter": {
   "hash": "f7fe963237f798d90b87ba1d3665dbd53f59066b18d410facd0c3e5b72115067"
  },
  "kernelspec": {
   "display_name": "Python 3.9.7 64-bit",
   "language": "python",
   "name": "python3"
  },
  "language_info": {
   "codemirror_mode": {
    "name": "ipython",
    "version": 3
   },
   "file_extension": ".py",
   "mimetype": "text/x-python",
   "name": "python",
   "nbconvert_exporter": "python",
   "pygments_lexer": "ipython3",
   "version": "3.9.7"
  },
  "orig_nbformat": 4
 },
 "nbformat": 4,
 "nbformat_minor": 2
}
