{
 "cells": [
  {
   "cell_type": "code",
   "execution_count": null,
   "metadata": {},
   "outputs": [],
   "source": [
    "def solution(id_list, report, k):\n",
    "    report = set(report)\n",
    "    answer = {x:0 for x in id_list}\n",
    "\n",
    "    reports = {x:0 for x in id_list}\n",
    "    for x in report:\n",
    "        reports[x.split()[1]]+=1\n",
    "\n",
    "    for x in report:\n",
    "        if reports[x.split()[1]] >=k:\n",
    "            answer[x.split()[0]]+=1\n",
    "\n",
    "    return list(answer.values())"
   ]
  }
 ],
 "metadata": {
  "language_info": {
   "name": "python"
  },
  "orig_nbformat": 4
 },
 "nbformat": 4,
 "nbformat_minor": 2
}
